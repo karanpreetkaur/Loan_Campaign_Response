{
 "cells": [
  {
   "cell_type": "code",
   "execution_count": 1,
   "id": "a86747c9-213b-4429-9f75-7f0a272e4108",
   "metadata": {},
   "outputs": [],
   "source": [
    "import numpy as np\n",
    "import pandas as pd\n",
    "import altair as alt\n",
    "\n",
    "from sklearn.pipeline import make_pipeline\n",
    "from sklearn.compose import ColumnTransformer\n",
    "from sklearn.preprocessing import StandardScaler, OneHotEncoder\n",
    "\n",
    "from sklearn.dummy import DummyClassifier\n",
    "from sklearn.tree import DecisionTreeClassifier\n",
    "from sklearn.linear_model import LogisticRegression\n",
    "from sklearn.ensemble import RandomForestClassifier\n",
    "# from xgboost import XGBClassifier\n",
    "# import lightgbm as lgb\n",
    "\n",
    "from sklearn.model_selection import cross_validate, RandomizedSearchCV\n",
    "from sklearn.metrics import confusion_matrix, ConfusionMatrixDisplay, precision_recall_curve, PrecisionRecallDisplay, roc_curve, RocCurveDisplay\n",
    "from sklearn.svm import SVC\n",
    "\n",
    "# from imblearn.over_sampling import SMOTE\n",
    "# from imblearn.under_sampling import RandomUnderSampler\n",
    "# from imblearn.pipeline import Pipeline"
   ]
  },
  {
   "cell_type": "code",
   "execution_count": 2,
   "id": "acbede7f-c112-438f-8504-ac36e763a39e",
   "metadata": {},
   "outputs": [],
   "source": [
    "# Load train and test dataset\n",
    "train_df = pd.read_csv('../data/preprocessed/train.csv')\n",
    "test_df = pd.read_csv('../data/preprocessed/test.csv')"
   ]
  },
  {
   "cell_type": "code",
   "execution_count": 3,
   "id": "79bdf471-7318-47c9-845f-77a9b7d8c743",
   "metadata": {
    "tags": []
   },
   "outputs": [],
   "source": [
    "X_train = train_df.drop(columns=['TARGET', 'random'])\n",
    "y_train = train_df['TARGET']\n",
    "\n",
    "X_test = test_df.drop(columns=['TARGET', 'random'])\n",
    "y_test = test_df['TARGET']"
   ]
  },
  {
   "cell_type": "code",
   "execution_count": 4,
   "id": "a4f0fb21-4a1d-4aba-9199-7016c3cb502f",
   "metadata": {},
   "outputs": [
    {
     "data": {
      "text/plain": [
       "0    0.875625\n",
       "1    0.124375\n",
       "Name: TARGET, dtype: float64"
      ]
     },
     "execution_count": 4,
     "metadata": {},
     "output_type": "execute_result"
    }
   ],
   "source": [
    "y_train.value_counts(normalize=True)"
   ]
  },
  {
   "cell_type": "markdown",
   "id": "e02a431e-cec0-4a17-934c-9b5a9a548f12",
   "metadata": {},
   "source": [
    "#### Scoring Metrics\n",
    "\n",
    "Since this is an classification problem, the standard scoring metrics accuracy and apart from that, as we know from EDA that there is some class imbalance involved in the data, so it makes sense to look at scoring metrics like Precision, Recall and F1 score. To evaluate the performance of the model, i will also be looking at the Precision-Recall curve."
   ]
  },
  {
   "cell_type": "code",
   "execution_count": 5,
   "id": "b241db9f-771e-4514-bcd4-988ebab6102e",
   "metadata": {},
   "outputs": [],
   "source": [
    "scoring_metrics = {\n",
    "    \"accuracy\",\n",
    "    \"f1\",\n",
    "    \"precision\",\n",
    "    \"recall\"\n",
    "}"
   ]
  },
  {
   "cell_type": "code",
   "execution_count": 6,
   "id": "6a91892e-7473-42ec-9eee-1f0254bd72de",
   "metadata": {},
   "outputs": [],
   "source": [
    "# Adapted from Lecture notes\n",
    "def mean_std_cross_val_scores(model, X_train, y_train, **kwargs):\n",
    "    \"\"\"\n",
    "    Returns mean and std of cross validation\n",
    "\n",
    "    Parameters\n",
    "    ----------\n",
    "    model :\n",
    "        scikit-learn model\n",
    "    X_train : numpy array or pandas DataFrame\n",
    "        X in the training data\n",
    "    y_train :\n",
    "        y in the training data\n",
    "\n",
    "    Returns\n",
    "    ----------\n",
    "        pandas Series with mean scores from cross_validation\n",
    "    \"\"\"\n",
    "\n",
    "    scores = cross_validate(model, X_train, y_train, **kwargs)\n",
    "\n",
    "    mean_scores = pd.DataFrame(scores).mean()\n",
    "    std_scores = pd.DataFrame(scores).std()\n",
    "    out_col = []\n",
    "\n",
    "    for i in range(len(mean_scores)):\n",
    "        out_col.append((f\"%0.3f (+/- %0.3f)\" % (mean_scores[i], std_scores[i])))\n",
    "\n",
    "    return pd.Series(data=out_col, index=mean_scores.index)"
   ]
  },
  {
   "cell_type": "markdown",
   "id": "77c9fed8-a058-4ac8-9e18-9b169539f000",
   "metadata": {},
   "source": [
    "#### Baseline Model "
   ]
  },
  {
   "cell_type": "code",
   "execution_count": 7,
   "id": "90272aff-a1dd-49e5-855d-5cb6483447f7",
   "metadata": {},
   "outputs": [
    {
     "name": "stderr",
     "output_type": "stream",
     "text": [
      "C:\\Users\\hp\\miniconda3\\envs\\563\\lib\\site-packages\\sklearn\\metrics\\_classification.py:1318: UndefinedMetricWarning: Precision is ill-defined and being set to 0.0 due to no predicted samples. Use `zero_division` parameter to control this behavior.\n",
      "  _warn_prf(average, modifier, msg_start, len(result))\n",
      "C:\\Users\\hp\\miniconda3\\envs\\563\\lib\\site-packages\\sklearn\\metrics\\_classification.py:1318: UndefinedMetricWarning: Precision is ill-defined and being set to 0.0 due to no predicted samples. Use `zero_division` parameter to control this behavior.\n",
      "  _warn_prf(average, modifier, msg_start, len(result))\n",
      "C:\\Users\\hp\\miniconda3\\envs\\563\\lib\\site-packages\\sklearn\\metrics\\_classification.py:1318: UndefinedMetricWarning: Precision is ill-defined and being set to 0.0 due to no predicted samples. Use `zero_division` parameter to control this behavior.\n",
      "  _warn_prf(average, modifier, msg_start, len(result))\n",
      "C:\\Users\\hp\\miniconda3\\envs\\563\\lib\\site-packages\\sklearn\\metrics\\_classification.py:1318: UndefinedMetricWarning: Precision is ill-defined and being set to 0.0 due to no predicted samples. Use `zero_division` parameter to control this behavior.\n",
      "  _warn_prf(average, modifier, msg_start, len(result))\n",
      "C:\\Users\\hp\\miniconda3\\envs\\563\\lib\\site-packages\\sklearn\\metrics\\_classification.py:1318: UndefinedMetricWarning: Precision is ill-defined and being set to 0.0 due to no predicted samples. Use `zero_division` parameter to control this behavior.\n",
      "  _warn_prf(average, modifier, msg_start, len(result))\n"
     ]
    },
    {
     "data": {
      "text/plain": [
       "fit_time          0.014 (+/- 0.004)\n",
       "score_time        0.017 (+/- 0.004)\n",
       "test_recall       0.000 (+/- 0.000)\n",
       "test_f1           0.000 (+/- 0.000)\n",
       "test_accuracy     0.876 (+/- 0.000)\n",
       "test_precision    0.000 (+/- 0.000)\n",
       "dtype: object"
      ]
     },
     "execution_count": 7,
     "metadata": {},
     "output_type": "execute_result"
    }
   ],
   "source": [
    "model = DummyClassifier()\n",
    "model.fit(X_train, y_train)\n",
    "\n",
    "\n",
    "mean_std_cross_val_scores(model, X_train, y_train, scoring=scoring_metrics)"
   ]
  },
  {
   "cell_type": "markdown",
   "id": "c79d2c64-5f3f-48d7-bb96-60a6064a9293",
   "metadata": {},
   "source": [
    "As expected, the result of baseline model is giving very high accuracy but precision, recall and f1 is 0"
   ]
  },
  {
   "cell_type": "markdown",
   "id": "f6896734-96fc-40e4-91ce-7815c58d9636",
   "metadata": {},
   "source": [
    "#### Preprocessing columns"
   ]
  },
  {
   "cell_type": "code",
   "execution_count": 8,
   "id": "f8c3a728-161e-4462-9141-298706fb50f1",
   "metadata": {},
   "outputs": [],
   "source": [
    "numeric_cols = ['BALANCE',\n",
    "                 'SCR',\n",
    "                 'HOLDING_PERIOD',\n",
    "                 'LEN_OF_RLTN_IN_MNTH',\n",
    "                 'NO_OF_L_CR_TXNS',\n",
    "                 'NO_OF_L_DR_TXNS',\n",
    "                 'TOT_NO_OF_L_TXNS',\n",
    "                 'NO_OF_BR_CSH_WDL_DR_TXNS',\n",
    "                 'NO_OF_ATM_DR_TXNS',\n",
    "                 'NO_OF_NET_DR_TXNS',\n",
    "                 'NO_OF_MOB_DR_TXNS',\n",
    "                 'NO_OF_CHQ_DR_TXNS',\n",
    "                 'AMT_ATM_DR',\n",
    "                 'AMT_BR_CSH_WDL_DR',\n",
    "                 'AMT_CHQ_DR',\n",
    "                 'AMT_NET_DR',\n",
    "                 'AMT_MOB_DR',\n",
    "                 'AMT_L_DR',\n",
    "                 'AMT_OTH_BK_ATM_USG_CHGS',\n",
    "                 'AMT_MIN_BAL_NMC_CHGS',\n",
    "                 'AVG_AMT_PER_ATM_TXN',\n",
    "                 'AVG_AMT_PER_CSH_WDL_TXN',\n",
    "                 'AVG_AMT_PER_CHQ_TXN',\n",
    "                 'AVG_AMT_PER_NET_TXN',\n",
    "                 'AVG_AMT_PER_MOB_TXN'\n",
    "                ]\n",
    "\n",
    "\n",
    "numeric_cols_remove_collinear = ['BALANCE',\n",
    "                                 'SCR',\n",
    "                                 'HOLDING_PERIOD',\n",
    "                                 'LEN_OF_RLTN_IN_MNTH',\n",
    "                                 'NO_OF_L_CR_TXNS',\n",
    "                                 'NO_OF_L_DR_TXNS',\n",
    "                                 'AMT_OTH_BK_ATM_USG_CHGS',\n",
    "                                 'AMT_MIN_BAL_NMC_CHGS',\n",
    "                                 'AVG_AMT_PER_ATM_TXN',\n",
    "                                 'AVG_AMT_PER_CSH_WDL_TXN',\n",
    "                                 'AVG_AMT_PER_CHQ_TXN',\n",
    "                                 'AVG_AMT_PER_NET_TXN',\n",
    "                                 'AVG_AMT_PER_MOB_TXN'\n",
    "                                ]\n",
    "\n",
    "categorical_cols = ['NO_OF_IW_CHQ_BNC_TXNS', 'NO_OF_OW_CHQ_BNC_TXNS', 'AGE_BKT',\n",
    "                    'GENDER', 'OCCUPATION', 'ACC_TYPE', 'FLG_HAS_CC',\n",
    "                    'FLG_HAS_ANY_CHGS', 'FLG_HAS_NOMINEE', 'FLG_HAS_OLD_LOAN']"
   ]
  },
  {
   "cell_type": "code",
   "execution_count": 9,
   "id": "caf24ad2-a93c-4ded-8710-94e5994cb38f",
   "metadata": {},
   "outputs": [],
   "source": [
    "preprocessor = ColumnTransformer([\n",
    "            (\"scaling\", StandardScaler(), numeric_cols),\n",
    "            (\"onehot\", OneHotEncoder(handle_unknown='ignore', sparse=False), categorical_cols)\n",
    "])"
   ]
  },
  {
   "cell_type": "code",
   "execution_count": 10,
   "id": "85e29d58-28a8-44a9-9d5d-b3d29dba1322",
   "metadata": {},
   "outputs": [],
   "source": [
    "preprocessor_remove_multicolinear = ColumnTransformer([\n",
    "            (\"scaling\", StandardScaler(), numeric_cols_remove_collinear),\n",
    "            (\"onehot\", OneHotEncoder(handle_unknown='ignore', sparse=False), categorical_cols)\n",
    "])"
   ]
  },
  {
   "cell_type": "code",
   "execution_count": 11,
   "id": "2ed6d497-0539-4005-8ba6-255955c729f0",
   "metadata": {},
   "outputs": [],
   "source": [
    "X_train_transformed = preprocessor_remove_multicolinear.fit_transform(X_train)\n",
    "X_test_transformed = preprocessor_remove_multicolinear.transform(X_test)\n",
    "\n",
    "onehotencode_feature_names = preprocessor_remove_multicolinear.named_transformers_['onehot'].get_feature_names_out().tolist()\n",
    "feature_names = numeric_cols_remove_collinear + onehotencode_feature_names\n",
    "\n",
    "X_train_transformed = pd.DataFrame(X_train_transformed, columns=feature_names)\n",
    "X_test_transformed = pd.DataFrame(X_test_transformed, columns=feature_names)\n",
    "\n",
    "# Rename columns\n",
    "X_train_transformed = X_train_transformed.rename(columns={'AGE_BKT_>50': 'AGE_BKT_GT_50',\n",
    "                                                          'AGE_BKT_<25': 'AGE_BKT_LT_25'})\n",
    "\n",
    "X_test_transformed = X_test_transformed.rename(columns={'AGE_BKT_>50': 'AGE_BKT_GT_50',\n",
    "                                                        'AGE_BKT_<25': 'AGE_BKT_LT_25'})"
   ]
  },
  {
   "cell_type": "markdown",
   "id": "acd82775-c1ed-4aa5-9302-23617b4557b8",
   "metadata": {
    "tags": []
   },
   "source": [
    "##### Three problems to address in the dataset\n",
    "\n",
    "1. **Multicollinearity** - To handle multicollinearity, I looked up into the input features in eda correlation plot and have extracted selected which have very low correlation \n",
    "\n",
    "    _Refer correlation plot of selected features below_\n",
    "\n",
    "2.  **Class Imbalance** - To handle class imbalance, I have using class_weight = 'balanced' and SMOTE and see what works better.\n",
    "\n",
    "3. **Large number of features** - There are total 38 features per example. Though this dataset is not considered high dimensional, we need to know if we need all 38 features."
   ]
  },
  {
   "cell_type": "markdown",
   "id": "43a86d84-a16d-4763-b146-cc6cb450accb",
   "metadata": {},
   "source": [
    "# Detect multicollinearity in features"
   ]
  },
  {
   "cell_type": "markdown",
   "id": "11e9fdef-656f-4c8c-86db-03a838cb6db0",
   "metadata": {},
   "source": [
    "### Method - 1 (VIF- Variance Inflation factor)"
   ]
  },
  {
   "cell_type": "code",
   "execution_count": 12,
   "id": "71f15a21-a678-4151-8903-4d6f1a781a9a",
   "metadata": {},
   "outputs": [],
   "source": [
    "from statsmodels.stats.outliers_influence import variance_inflation_factor"
   ]
  },
  {
   "cell_type": "code",
   "execution_count": 13,
   "id": "53c52400-5d6f-4e3e-9a91-e3effbda8b1e",
   "metadata": {},
   "outputs": [],
   "source": [
    "# VIF dataframe\n",
    "vif_data = pd.DataFrame()\n",
    "X = train_df[numeric_cols_remove_collinear]\n",
    "vif_data[\"feature\"] = X.columns\n",
    "  \n",
    "# calculating VIF for each feature\n",
    "vif_data[\"VIF\"] = [variance_inflation_factor(X.values, i) for i in range(len(X.columns))]"
   ]
  },
  {
   "cell_type": "code",
   "execution_count": 14,
   "id": "d5bd02e9-be8a-4304-9f28-18c48d3cda7a",
   "metadata": {},
   "outputs": [
    {
     "data": {
      "text/html": [
       "<div>\n",
       "<style scoped>\n",
       "    .dataframe tbody tr th:only-of-type {\n",
       "        vertical-align: middle;\n",
       "    }\n",
       "\n",
       "    .dataframe tbody tr th {\n",
       "        vertical-align: top;\n",
       "    }\n",
       "\n",
       "    .dataframe thead th {\n",
       "        text-align: right;\n",
       "    }\n",
       "</style>\n",
       "<table border=\"1\" class=\"dataframe\">\n",
       "  <thead>\n",
       "    <tr style=\"text-align: right;\">\n",
       "      <th></th>\n",
       "      <th>feature</th>\n",
       "      <th>VIF</th>\n",
       "    </tr>\n",
       "  </thead>\n",
       "  <tbody>\n",
       "    <tr>\n",
       "      <th>0</th>\n",
       "      <td>BALANCE</td>\n",
       "      <td>1.460184</td>\n",
       "    </tr>\n",
       "    <tr>\n",
       "      <th>1</th>\n",
       "      <td>SCR</td>\n",
       "      <td>3.391247</td>\n",
       "    </tr>\n",
       "    <tr>\n",
       "      <th>2</th>\n",
       "      <td>HOLDING_PERIOD</td>\n",
       "      <td>3.668257</td>\n",
       "    </tr>\n",
       "    <tr>\n",
       "      <th>3</th>\n",
       "      <td>LEN_OF_RLTN_IN_MNTH</td>\n",
       "      <td>4.545220</td>\n",
       "    </tr>\n",
       "    <tr>\n",
       "      <th>4</th>\n",
       "      <td>NO_OF_L_CR_TXNS</td>\n",
       "      <td>3.372208</td>\n",
       "    </tr>\n",
       "    <tr>\n",
       "      <th>5</th>\n",
       "      <td>NO_OF_L_DR_TXNS</td>\n",
       "      <td>6.241194</td>\n",
       "    </tr>\n",
       "    <tr>\n",
       "      <th>6</th>\n",
       "      <td>AMT_OTH_BK_ATM_USG_CHGS</td>\n",
       "      <td>1.892585</td>\n",
       "    </tr>\n",
       "    <tr>\n",
       "      <th>7</th>\n",
       "      <td>AMT_MIN_BAL_NMC_CHGS</td>\n",
       "      <td>1.011957</td>\n",
       "    </tr>\n",
       "    <tr>\n",
       "      <th>8</th>\n",
       "      <td>AVG_AMT_PER_ATM_TXN</td>\n",
       "      <td>2.473066</td>\n",
       "    </tr>\n",
       "    <tr>\n",
       "      <th>9</th>\n",
       "      <td>AVG_AMT_PER_CSH_WDL_TXN</td>\n",
       "      <td>1.762525</td>\n",
       "    </tr>\n",
       "    <tr>\n",
       "      <th>10</th>\n",
       "      <td>AVG_AMT_PER_CHQ_TXN</td>\n",
       "      <td>1.802194</td>\n",
       "    </tr>\n",
       "    <tr>\n",
       "      <th>11</th>\n",
       "      <td>AVG_AMT_PER_NET_TXN</td>\n",
       "      <td>1.467661</td>\n",
       "    </tr>\n",
       "    <tr>\n",
       "      <th>12</th>\n",
       "      <td>AVG_AMT_PER_MOB_TXN</td>\n",
       "      <td>1.713778</td>\n",
       "    </tr>\n",
       "  </tbody>\n",
       "</table>\n",
       "</div>"
      ],
      "text/plain": [
       "                    feature       VIF\n",
       "0                   BALANCE  1.460184\n",
       "1                       SCR  3.391247\n",
       "2            HOLDING_PERIOD  3.668257\n",
       "3       LEN_OF_RLTN_IN_MNTH  4.545220\n",
       "4           NO_OF_L_CR_TXNS  3.372208\n",
       "5           NO_OF_L_DR_TXNS  6.241194\n",
       "6   AMT_OTH_BK_ATM_USG_CHGS  1.892585\n",
       "7      AMT_MIN_BAL_NMC_CHGS  1.011957\n",
       "8       AVG_AMT_PER_ATM_TXN  2.473066\n",
       "9   AVG_AMT_PER_CSH_WDL_TXN  1.762525\n",
       "10      AVG_AMT_PER_CHQ_TXN  1.802194\n",
       "11      AVG_AMT_PER_NET_TXN  1.467661\n",
       "12      AVG_AMT_PER_MOB_TXN  1.713778"
      ]
     },
     "execution_count": 14,
     "metadata": {},
     "output_type": "execute_result"
    }
   ],
   "source": [
    "vif_data"
   ]
  },
  {
   "cell_type": "code",
   "execution_count": 15,
   "id": "060162cf-c5be-4da3-8d94-1862e8a84a3c",
   "metadata": {},
   "outputs": [
    {
     "data": {
      "text/plain": [
       "PCA(n_components=20)"
      ]
     },
     "execution_count": 15,
     "metadata": {},
     "output_type": "execute_result"
    }
   ],
   "source": [
    "from sklearn.decomposition import PCA\n",
    "pca_model = PCA(n_components=20)\n",
    "pca_model.fit(X_train_transformed)"
   ]
  },
  {
   "cell_type": "code",
   "execution_count": 16,
   "id": "9f1eb580-dd32-4fec-b06c-b17ee58d4adf",
   "metadata": {},
   "outputs": [
    {
     "data": {
      "text/plain": [
       "0.9207161273117026"
      ]
     },
     "execution_count": 16,
     "metadata": {},
     "output_type": "execute_result"
    }
   ],
   "source": [
    "sum(pca_model.explained_variance_ratio_)"
   ]
  },
  {
   "cell_type": "code",
   "execution_count": 17,
   "id": "79d14260-7adb-4cd7-8a42-7fa5ee12b29e",
   "metadata": {},
   "outputs": [],
   "source": [
    "X = pca_model.transform(X_train_transformed)"
   ]
  },
  {
   "cell_type": "code",
   "execution_count": 18,
   "id": "11a79668-32a0-49c3-a4be-1f2a2d44c024",
   "metadata": {},
   "outputs": [
    {
     "data": {
      "text/plain": [
       "(16000, 20)"
      ]
     },
     "execution_count": 18,
     "metadata": {},
     "output_type": "execute_result"
    }
   ],
   "source": [
    "X.shape"
   ]
  },
  {
   "cell_type": "code",
   "execution_count": 19,
   "id": "aa160714-a934-49ae-8043-934c2dd8f096",
   "metadata": {},
   "outputs": [],
   "source": [
    "scoring_metrics = {\n",
    "    \"accuracy\",\n",
    "    \"f1\",\n",
    "    \"precision\",\n",
    "    \"recall\"\n",
    "}"
   ]
  },
  {
   "cell_type": "code",
   "execution_count": 20,
   "id": "9eba6f98-b6b9-4c65-a66a-1ed913d7980a",
   "metadata": {},
   "outputs": [
    {
     "data": {
      "text/plain": [
       "fit_time           14.924 (+/- 0.334)\n",
       "score_time          0.214 (+/- 0.007)\n",
       "test_recall         0.703 (+/- 0.048)\n",
       "train_recall        1.000 (+/- 0.000)\n",
       "test_f1             0.821 (+/- 0.034)\n",
       "train_f1            1.000 (+/- 0.000)\n",
       "test_accuracy       0.962 (+/- 0.006)\n",
       "train_accuracy      1.000 (+/- 0.000)\n",
       "test_precision      0.989 (+/- 0.006)\n",
       "train_precision     1.000 (+/- 0.000)\n",
       "dtype: object"
      ]
     },
     "execution_count": 20,
     "metadata": {},
     "output_type": "execute_result"
    }
   ],
   "source": [
    "model_RF = RandomForestClassifier()\n",
    "model_RF.fit(X, y_train)\n",
    "\n",
    "mean_std_cross_val_scores(model_RF,\n",
    "                       X,\n",
    "                       y_train,\n",
    "                       return_train_score=True,\n",
    "                       scoring=scoring_metrics)"
   ]
  },
  {
   "cell_type": "code",
   "execution_count": 21,
   "id": "f48f818f-a439-462f-a7f1-0ff55b0b2ecb",
   "metadata": {},
   "outputs": [
    {
     "name": "stderr",
     "output_type": "stream",
     "text": [
      "C:\\Users\\hp\\miniconda3\\envs\\563\\lib\\site-packages\\xgboost\\compat.py:36: FutureWarning: pandas.Int64Index is deprecated and will be removed from pandas in a future version. Use pandas.Index with the appropriate dtype instead.\n",
      "  from pandas import MultiIndex, Int64Index\n"
     ]
    }
   ],
   "source": [
    "from xgboost import XGBClassifier"
   ]
  },
  {
   "cell_type": "code",
   "execution_count": 22,
   "id": "093c709b-4aa5-47e4-9e03-79120551ef30",
   "metadata": {},
   "outputs": [
    {
     "data": {
      "text/plain": [
       "XGBClassifier(base_score=0.5, booster='gbtree', colsample_bylevel=1,\n",
       "              colsample_bynode=1, colsample_bytree=1, enable_categorical=False,\n",
       "              gamma=0, gpu_id=-1, importance_type=None,\n",
       "              interaction_constraints='', learning_rate=0.300000012,\n",
       "              max_delta_step=0, max_depth=6, min_child_weight=1, missing=nan,\n",
       "              monotone_constraints='()', n_estimators=100, n_jobs=8,\n",
       "              num_parallel_tree=1, predictor='auto', random_state=0,\n",
       "              reg_alpha=0, reg_lambda=1, scale_pos_weight=1, subsample=1,\n",
       "              tree_method='exact', use_label_encoder=False,\n",
       "              validate_parameters=1, verbosity=0)"
      ]
     },
     "execution_count": 22,
     "metadata": {},
     "output_type": "execute_result"
    }
   ],
   "source": [
    "model_xgb = XGBClassifier(use_label_encoder =False, \n",
    "                          verbosity=0)\n",
    "model_xgb.fit(X, y_train)"
   ]
  },
  {
   "cell_type": "code",
   "execution_count": 23,
   "id": "e93d19ec-5576-413c-a07d-5bd47414a3c3",
   "metadata": {},
   "outputs": [
    {
     "data": {
      "text/plain": [
       "fit_time           4.007 (+/- 0.128)\n",
       "score_time         0.042 (+/- 0.019)\n",
       "test_recall        0.663 (+/- 0.031)\n",
       "train_recall       0.957 (+/- 0.011)\n",
       "test_f1            0.769 (+/- 0.023)\n",
       "train_f1           0.978 (+/- 0.006)\n",
       "test_accuracy      0.951 (+/- 0.004)\n",
       "train_accuracy     0.995 (+/- 0.001)\n",
       "test_precision     0.918 (+/- 0.011)\n",
       "train_precision    1.000 (+/- 0.000)\n",
       "dtype: object"
      ]
     },
     "execution_count": 23,
     "metadata": {},
     "output_type": "execute_result"
    }
   ],
   "source": [
    "mean_std_cross_val_scores(model_xgb,\n",
    "                           X,\n",
    "                           y_train,\n",
    "                           return_train_score=True,\n",
    "                           scoring=scoring_metrics)"
   ]
  }
 ],
 "metadata": {
  "kernelspec": {
   "display_name": "Python [conda env:563]",
   "language": "python",
   "name": "conda-env-563-py"
  },
  "language_info": {
   "codemirror_mode": {
    "name": "ipython",
    "version": 3
   },
   "file_extension": ".py",
   "mimetype": "text/x-python",
   "name": "python",
   "nbconvert_exporter": "python",
   "pygments_lexer": "ipython3",
   "version": "3.9.10"
  }
 },
 "nbformat": 4,
 "nbformat_minor": 5
}
