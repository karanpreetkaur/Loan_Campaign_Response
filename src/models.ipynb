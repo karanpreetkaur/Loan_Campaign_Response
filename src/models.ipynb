{
 "cells": [
  {
   "cell_type": "code",
   "execution_count": 1,
   "id": "fb643e78-fd6c-4a56-939f-00162a5ff9a6",
   "metadata": {},
   "outputs": [],
   "source": [
    "import numpy as np\n",
    "import pandas as pd\n",
    "import altair as alt\n",
    "\n",
    "from sklearn.pipeline import make_pipeline\n",
    "from sklearn.compose import ColumnTransformer\n",
    "from sklearn.preprocessing import StandardScaler, OneHotEncoder\n",
    "\n",
    "from sklearn.dummy import DummyClassifier\n",
    "from sklearn.tree import DecisionTreeClassifier\n",
    "from sklearn.linear_model import LogisticRegression\n",
    "from sklearn.ensemble import RandomForestClassifier\n",
    "# from xgboost import XGBClassifier\n",
    "# import lightgbm as lgb\n",
    "\n",
    "from sklearn.model_selection import cross_validate, RandomizedSearchCV\n",
    "from sklearn.metrics import confusion_matrix, ConfusionMatrixDisplay, precision_recall_curve, PrecisionRecallDisplay, roc_curve, RocCurveDisplay\n",
    "from sklearn.svm import SVC\n",
    "\n",
    "# from imblearn.over_sampling import SMOTE\n",
    "# from imblearn.under_sampling import RandomUnderSampler\n",
    "# from imblearn.pipeline import Pipeline"
   ]
  },
  {
   "cell_type": "code",
   "execution_count": 2,
   "id": "cd8c1509-60c4-49ac-8c33-de950543123e",
   "metadata": {},
   "outputs": [],
   "source": [
    "# Load train and test dataset\n",
    "train_df = pd.read_csv('../data/preprocessed/train.csv')\n",
    "test_df = pd.read_csv('../data/preprocessed/test.csv')"
   ]
  },
  {
   "cell_type": "code",
   "execution_count": 3,
   "id": "781eeca4-5761-4c8c-938f-3588b2573fec",
   "metadata": {
    "tags": []
   },
   "outputs": [],
   "source": [
    "X_train = train_df.drop(columns=['TARGET', 'random'])\n",
    "y_train = train_df['TARGET']\n",
    "\n",
    "X_test = test_df.drop(columns=['TARGET', 'random'])\n",
    "y_test = test_df['TARGET']"
   ]
  },
  {
   "cell_type": "code",
   "execution_count": 4,
   "id": "fdba1436-bd2c-4eec-8c52-47afba7b09c7",
   "metadata": {},
   "outputs": [
    {
     "data": {
      "text/plain": [
       "0    0.875625\n",
       "1    0.124375\n",
       "Name: TARGET, dtype: float64"
      ]
     },
     "execution_count": 4,
     "metadata": {},
     "output_type": "execute_result"
    }
   ],
   "source": [
    "y_train.value_counts(normalize=True)"
   ]
  },
  {
   "cell_type": "markdown",
   "id": "7cc2ec97-32bd-4d11-a0ea-d403f5db2d98",
   "metadata": {},
   "source": [
    "#### Scoring Metrics\n",
    "\n",
    "Since this is an classification problem, the standard scoring metrics accuracy and apart from that, as we know from EDA that there is some class imbalance involved in the data, so it makes sense to look at scoring metrics like Precision, Recall and F1 score. To evaluate the performance of the model, i will also be looking at the Precision-Recall curve."
   ]
  },
  {
   "cell_type": "code",
   "execution_count": 5,
   "id": "08c69f94-a18d-4516-92b1-3106cdddd524",
   "metadata": {},
   "outputs": [],
   "source": [
    "scoring_metrics = {\n",
    "    \"accuracy\",\n",
    "    \"f1\",\n",
    "    \"precision\",\n",
    "    \"recall\"\n",
    "}"
   ]
  },
  {
   "cell_type": "code",
   "execution_count": 6,
   "id": "c1d40c2c-4402-44a0-b7de-4dd288a0d24f",
   "metadata": {},
   "outputs": [],
   "source": [
    "# Adapted from Lecture notes\n",
    "def mean_std_cross_val_scores(model, X_train, y_train, **kwargs):\n",
    "    \"\"\"\n",
    "    Returns mean and std of cross validation\n",
    "\n",
    "    Parameters\n",
    "    ----------\n",
    "    model :\n",
    "        scikit-learn model\n",
    "    X_train : numpy array or pandas DataFrame\n",
    "        X in the training data\n",
    "    y_train :\n",
    "        y in the training data\n",
    "\n",
    "    Returns\n",
    "    ----------\n",
    "        pandas Series with mean scores from cross_validation\n",
    "    \"\"\"\n",
    "\n",
    "    scores = cross_validate(model, X_train, y_train, **kwargs)\n",
    "\n",
    "    mean_scores = pd.DataFrame(scores).mean()\n",
    "    std_scores = pd.DataFrame(scores).std()\n",
    "    out_col = []\n",
    "\n",
    "    for i in range(len(mean_scores)):\n",
    "        out_col.append((f\"%0.3f (+/- %0.3f)\" % (mean_scores[i], std_scores[i])))\n",
    "\n",
    "    return pd.Series(data=out_col, index=mean_scores.index)"
   ]
  },
  {
   "cell_type": "markdown",
   "id": "17a978a7-f928-49d0-a2bb-2d83f1166e19",
   "metadata": {},
   "source": [
    "#### Baseline Model "
   ]
  },
  {
   "cell_type": "code",
   "execution_count": 7,
   "id": "68c15481-e9ab-484f-ae19-3a42231e640f",
   "metadata": {},
   "outputs": [
    {
     "name": "stderr",
     "output_type": "stream",
     "text": [
      "C:\\Users\\hp\\miniconda3\\envs\\563\\lib\\site-packages\\sklearn\\metrics\\_classification.py:1318: UndefinedMetricWarning: Precision is ill-defined and being set to 0.0 due to no predicted samples. Use `zero_division` parameter to control this behavior.\n",
      "  _warn_prf(average, modifier, msg_start, len(result))\n",
      "C:\\Users\\hp\\miniconda3\\envs\\563\\lib\\site-packages\\sklearn\\metrics\\_classification.py:1318: UndefinedMetricWarning: Precision is ill-defined and being set to 0.0 due to no predicted samples. Use `zero_division` parameter to control this behavior.\n",
      "  _warn_prf(average, modifier, msg_start, len(result))\n",
      "C:\\Users\\hp\\miniconda3\\envs\\563\\lib\\site-packages\\sklearn\\metrics\\_classification.py:1318: UndefinedMetricWarning: Precision is ill-defined and being set to 0.0 due to no predicted samples. Use `zero_division` parameter to control this behavior.\n",
      "  _warn_prf(average, modifier, msg_start, len(result))\n",
      "C:\\Users\\hp\\miniconda3\\envs\\563\\lib\\site-packages\\sklearn\\metrics\\_classification.py:1318: UndefinedMetricWarning: Precision is ill-defined and being set to 0.0 due to no predicted samples. Use `zero_division` parameter to control this behavior.\n",
      "  _warn_prf(average, modifier, msg_start, len(result))\n",
      "C:\\Users\\hp\\miniconda3\\envs\\563\\lib\\site-packages\\sklearn\\metrics\\_classification.py:1318: UndefinedMetricWarning: Precision is ill-defined and being set to 0.0 due to no predicted samples. Use `zero_division` parameter to control this behavior.\n",
      "  _warn_prf(average, modifier, msg_start, len(result))\n"
     ]
    },
    {
     "data": {
      "text/plain": [
       "fit_time          0.015 (+/- 0.011)\n",
       "score_time        0.015 (+/- 0.004)\n",
       "test_f1           0.000 (+/- 0.000)\n",
       "test_accuracy     0.876 (+/- 0.000)\n",
       "test_precision    0.000 (+/- 0.000)\n",
       "test_recall       0.000 (+/- 0.000)\n",
       "dtype: object"
      ]
     },
     "execution_count": 7,
     "metadata": {},
     "output_type": "execute_result"
    }
   ],
   "source": [
    "model = DummyClassifier()\n",
    "model.fit(X_train, y_train)\n",
    "\n",
    "\n",
    "mean_std_cross_val_scores(model, X_train, y_train, scoring=scoring_metrics)"
   ]
  },
  {
   "cell_type": "markdown",
   "id": "dffba90b-9591-4dd7-8138-fffe0e7aac45",
   "metadata": {},
   "source": [
    "As expected, the result of baseline model is giving very high accuracy but precision, recall and f1 is 0"
   ]
  },
  {
   "cell_type": "markdown",
   "id": "d672799c-1cc8-43ad-b7ae-c0971163b4d8",
   "metadata": {},
   "source": [
    "#### Preprocessing columns"
   ]
  },
  {
   "cell_type": "code",
   "execution_count": 8,
   "id": "242aeb20-9f5f-48b9-95cc-e0f1babf3d61",
   "metadata": {},
   "outputs": [],
   "source": [
    "numeric_cols = ['BALANCE',\n",
    "                 'SCR',\n",
    "                 'HOLDING_PERIOD',\n",
    "                 'LEN_OF_RLTN_IN_MNTH',\n",
    "                 'NO_OF_L_CR_TXNS',\n",
    "                 'NO_OF_L_DR_TXNS',\n",
    "                 'TOT_NO_OF_L_TXNS',\n",
    "                 'NO_OF_BR_CSH_WDL_DR_TXNS',\n",
    "                 'NO_OF_ATM_DR_TXNS',\n",
    "                 'NO_OF_NET_DR_TXNS',\n",
    "                 'NO_OF_MOB_DR_TXNS',\n",
    "                 'NO_OF_CHQ_DR_TXNS',\n",
    "                 'AMT_ATM_DR',\n",
    "                 'AMT_BR_CSH_WDL_DR',\n",
    "                 'AMT_CHQ_DR',\n",
    "                 'AMT_NET_DR',\n",
    "                 'AMT_MOB_DR',\n",
    "                 'AMT_L_DR',\n",
    "                 'AMT_OTH_BK_ATM_USG_CHGS',\n",
    "                 'AMT_MIN_BAL_NMC_CHGS',\n",
    "                 'AVG_AMT_PER_ATM_TXN',\n",
    "                 'AVG_AMT_PER_CSH_WDL_TXN',\n",
    "                 'AVG_AMT_PER_CHQ_TXN',\n",
    "                 'AVG_AMT_PER_NET_TXN',\n",
    "                 'AVG_AMT_PER_MOB_TXN'\n",
    "                ]\n",
    "\n",
    "\n",
    "numeric_cols_remove_collinear = ['BALANCE',\n",
    "                                 'SCR',\n",
    "                                 'HOLDING_PERIOD',\n",
    "                                 'LEN_OF_RLTN_IN_MNTH',\n",
    "                                 'NO_OF_L_CR_TXNS',\n",
    "                                 'NO_OF_L_DR_TXNS',\n",
    "                                 'AMT_OTH_BK_ATM_USG_CHGS',\n",
    "                                 'AMT_MIN_BAL_NMC_CHGS',\n",
    "                                 'AVG_AMT_PER_ATM_TXN',\n",
    "                                 'AVG_AMT_PER_CSH_WDL_TXN',\n",
    "                                 'AVG_AMT_PER_CHQ_TXN',\n",
    "                                 'AVG_AMT_PER_NET_TXN',\n",
    "                                 'AVG_AMT_PER_MOB_TXN'\n",
    "                                ]\n",
    "\n",
    "categorical_cols = ['NO_OF_IW_CHQ_BNC_TXNS', 'NO_OF_OW_CHQ_BNC_TXNS', 'AGE_BKT',\n",
    "                    'GENDER', 'OCCUPATION', 'ACC_TYPE', 'FLG_HAS_CC',\n",
    "                    'FLG_HAS_ANY_CHGS', 'FLG_HAS_NOMINEE', 'FLG_HAS_OLD_LOAN']"
   ]
  },
  {
   "cell_type": "code",
   "execution_count": 9,
   "id": "1b873c88-6008-463a-82df-f108165894d3",
   "metadata": {},
   "outputs": [],
   "source": [
    "preprocessor = ColumnTransformer([\n",
    "            (\"scaling\", StandardScaler(), numeric_cols),\n",
    "            (\"onehot\", OneHotEncoder(handle_unknown='ignore', sparse=False), categorical_cols)\n",
    "])"
   ]
  },
  {
   "cell_type": "code",
   "execution_count": 10,
   "id": "26dfabc7-8400-46a8-84d4-b53725b8b082",
   "metadata": {},
   "outputs": [],
   "source": [
    "preprocessor_remove_multicolinear = ColumnTransformer([\n",
    "            (\"scaling\", StandardScaler(), numeric_cols_remove_collinear),\n",
    "            (\"onehot\", OneHotEncoder(handle_unknown='ignore', sparse=False), categorical_cols)\n",
    "])"
   ]
  },
  {
   "cell_type": "code",
   "execution_count": 11,
   "id": "231c4473-0801-4725-aa68-abc715e11a8b",
   "metadata": {},
   "outputs": [],
   "source": [
    "X_train_transformed = preprocessor_remove_multicolinear.fit_transform(X_train)\n",
    "X_test_transformed = preprocessor_remove_multicolinear.transform(X_test)\n",
    "\n",
    "onehotencode_feature_names = preprocessor_remove_multicolinear.named_transformers_['onehot'].get_feature_names_out().tolist()\n",
    "feature_names = numeric_cols_remove_collinear + onehotencode_feature_names\n",
    "\n",
    "X_train_transformed = pd.DataFrame(X_train_transformed, columns=feature_names)\n",
    "X_test_transformed = pd.DataFrame(X_test_transformed, columns=feature_names)\n",
    "\n",
    "# Rename columns\n",
    "X_train_transformed = X_train_transformed.rename(columns={'AGE_BKT_>50': 'AGE_BKT_GT_50',\n",
    "                                                          'AGE_BKT_<25': 'AGE_BKT_LT_25'})\n",
    "\n",
    "X_test_transformed = X_test_transformed.rename(columns={'AGE_BKT_>50': 'AGE_BKT_GT_50',\n",
    "                                                        'AGE_BKT_<25': 'AGE_BKT_LT_25'})"
   ]
  },
  {
   "cell_type": "markdown",
   "id": "4499917c-4511-4ffc-8ce8-1463093ba12c",
   "metadata": {
    "tags": []
   },
   "source": [
    "##### Three problems to address in the dataset\n",
    "\n",
    "1. **Multicollinearity** - To handle multicollinearity, I looked up into the input features in eda correlation plot and have extracted selected which have very low correlation \n",
    "\n",
    "    _Refer correlation plot of selected features below_\n",
    "\n",
    "2.  **Class Imbalance** - To handle class imbalance, I have using class_weight = 'balanced' and SMOTE and see what works better.\n",
    "\n",
    "3. **Large number of features** - There are total 38 features per example. Though this dataset is not considered high dimensional, we need to know if we need all 38 features."
   ]
  },
  {
   "cell_type": "markdown",
   "id": "5c6408f2-f737-45e2-ba8f-2060168bb29d",
   "metadata": {},
   "source": [
    "# Detect multicollinearity in features"
   ]
  },
  {
   "cell_type": "markdown",
   "id": "d49a7840-c181-4658-b525-893e5d55fb64",
   "metadata": {},
   "source": [
    "### Method - 1 (VIF- Variance Inflation factor)"
   ]
  },
  {
   "cell_type": "code",
   "execution_count": 12,
   "id": "fdecae50-99e8-40b8-a733-d0847cea6985",
   "metadata": {},
   "outputs": [],
   "source": [
    "from statsmodels.stats.outliers_influence import variance_inflation_factor"
   ]
  },
  {
   "cell_type": "code",
   "execution_count": 13,
   "id": "5f698e27-a1c5-4226-bb63-0831b16bb7e5",
   "metadata": {},
   "outputs": [],
   "source": [
    "# VIF dataframe\n",
    "vif_data = pd.DataFrame()\n",
    "X = train_df[numeric_cols_remove_collinear]\n",
    "vif_data[\"feature\"] = X.columns\n",
    "  \n",
    "# calculating VIF for each feature\n",
    "vif_data[\"VIF\"] = [variance_inflation_factor(X.values, i) for i in range(len(X.columns))]"
   ]
  },
  {
   "cell_type": "code",
   "execution_count": 16,
   "id": "1a697a0b-0e42-42a3-8a44-3b32895faba7",
   "metadata": {},
   "outputs": [
    {
     "data": {
      "text/html": [
       "<div>\n",
       "<style scoped>\n",
       "    .dataframe tbody tr th:only-of-type {\n",
       "        vertical-align: middle;\n",
       "    }\n",
       "\n",
       "    .dataframe tbody tr th {\n",
       "        vertical-align: top;\n",
       "    }\n",
       "\n",
       "    .dataframe thead th {\n",
       "        text-align: right;\n",
       "    }\n",
       "</style>\n",
       "<table border=\"1\" class=\"dataframe\">\n",
       "  <thead>\n",
       "    <tr style=\"text-align: right;\">\n",
       "      <th></th>\n",
       "      <th>feature</th>\n",
       "      <th>VIF</th>\n",
       "    </tr>\n",
       "  </thead>\n",
       "  <tbody>\n",
       "    <tr>\n",
       "      <th>0</th>\n",
       "      <td>BALANCE</td>\n",
       "      <td>1.460184</td>\n",
       "    </tr>\n",
       "    <tr>\n",
       "      <th>1</th>\n",
       "      <td>SCR</td>\n",
       "      <td>3.391247</td>\n",
       "    </tr>\n",
       "    <tr>\n",
       "      <th>2</th>\n",
       "      <td>HOLDING_PERIOD</td>\n",
       "      <td>3.668257</td>\n",
       "    </tr>\n",
       "    <tr>\n",
       "      <th>3</th>\n",
       "      <td>LEN_OF_RLTN_IN_MNTH</td>\n",
       "      <td>4.545220</td>\n",
       "    </tr>\n",
       "    <tr>\n",
       "      <th>4</th>\n",
       "      <td>NO_OF_L_CR_TXNS</td>\n",
       "      <td>3.372208</td>\n",
       "    </tr>\n",
       "    <tr>\n",
       "      <th>5</th>\n",
       "      <td>NO_OF_L_DR_TXNS</td>\n",
       "      <td>6.241194</td>\n",
       "    </tr>\n",
       "    <tr>\n",
       "      <th>6</th>\n",
       "      <td>AMT_OTH_BK_ATM_USG_CHGS</td>\n",
       "      <td>1.892585</td>\n",
       "    </tr>\n",
       "    <tr>\n",
       "      <th>7</th>\n",
       "      <td>AMT_MIN_BAL_NMC_CHGS</td>\n",
       "      <td>1.011957</td>\n",
       "    </tr>\n",
       "    <tr>\n",
       "      <th>8</th>\n",
       "      <td>AVG_AMT_PER_ATM_TXN</td>\n",
       "      <td>2.473066</td>\n",
       "    </tr>\n",
       "    <tr>\n",
       "      <th>9</th>\n",
       "      <td>AVG_AMT_PER_CSH_WDL_TXN</td>\n",
       "      <td>1.762525</td>\n",
       "    </tr>\n",
       "    <tr>\n",
       "      <th>10</th>\n",
       "      <td>AVG_AMT_PER_CHQ_TXN</td>\n",
       "      <td>1.802194</td>\n",
       "    </tr>\n",
       "    <tr>\n",
       "      <th>11</th>\n",
       "      <td>AVG_AMT_PER_NET_TXN</td>\n",
       "      <td>1.467661</td>\n",
       "    </tr>\n",
       "    <tr>\n",
       "      <th>12</th>\n",
       "      <td>AVG_AMT_PER_MOB_TXN</td>\n",
       "      <td>1.713778</td>\n",
       "    </tr>\n",
       "  </tbody>\n",
       "</table>\n",
       "</div>"
      ],
      "text/plain": [
       "                    feature       VIF\n",
       "0                   BALANCE  1.460184\n",
       "1                       SCR  3.391247\n",
       "2            HOLDING_PERIOD  3.668257\n",
       "3       LEN_OF_RLTN_IN_MNTH  4.545220\n",
       "4           NO_OF_L_CR_TXNS  3.372208\n",
       "5           NO_OF_L_DR_TXNS  6.241194\n",
       "6   AMT_OTH_BK_ATM_USG_CHGS  1.892585\n",
       "7      AMT_MIN_BAL_NMC_CHGS  1.011957\n",
       "8       AVG_AMT_PER_ATM_TXN  2.473066\n",
       "9   AVG_AMT_PER_CSH_WDL_TXN  1.762525\n",
       "10      AVG_AMT_PER_CHQ_TXN  1.802194\n",
       "11      AVG_AMT_PER_NET_TXN  1.467661\n",
       "12      AVG_AMT_PER_MOB_TXN  1.713778"
      ]
     },
     "execution_count": 16,
     "metadata": {},
     "output_type": "execute_result"
    }
   ],
   "source": [
    "vif_data"
   ]
  },
  {
   "cell_type": "code",
   "execution_count": 24,
   "id": "e2676aad-41fd-449a-afd8-80736b89fc3d",
   "metadata": {},
   "outputs": [],
   "source": [
    "# from sklearn.decomposition import PCA\n",
    "# pca_model = PCA(n_components = 22)\n",
    "# pca_model.fit(X_train_transformed)"
   ]
  },
  {
   "cell_type": "code",
   "execution_count": 23,
   "id": "3679f105-cb76-40a3-aa04-c6ddd7b1c9b5",
   "metadata": {},
   "outputs": [],
   "source": [
    "# sum(pca_model.explained_variance_ratio_)"
   ]
  },
  {
   "cell_type": "markdown",
   "id": "6879c828-d2ea-4c2f-830c-3b642bb4695e",
   "metadata": {},
   "source": [
    "##### _Correlation plot of selected features_"
   ]
  },
  {
   "cell_type": "code",
   "execution_count": 25,
   "id": "6a63b36f-b87a-4758-b460-7e965993195c",
   "metadata": {
    "tags": []
   },
   "outputs": [
    {
     "data": {
      "text/html": [
       "\n",
       "<div id=\"altair-viz-ce4ebdbc7ff34eeca2ffb2ab447d2097\"></div>\n",
       "<script type=\"text/javascript\">\n",
       "  var VEGA_DEBUG = (typeof VEGA_DEBUG == \"undefined\") ? {} : VEGA_DEBUG;\n",
       "  (function(spec, embedOpt){\n",
       "    let outputDiv = document.currentScript.previousElementSibling;\n",
       "    if (outputDiv.id !== \"altair-viz-ce4ebdbc7ff34eeca2ffb2ab447d2097\") {\n",
       "      outputDiv = document.getElementById(\"altair-viz-ce4ebdbc7ff34eeca2ffb2ab447d2097\");\n",
       "    }\n",
       "    const paths = {\n",
       "      \"vega\": \"https://cdn.jsdelivr.net/npm//vega@5?noext\",\n",
       "      \"vega-lib\": \"https://cdn.jsdelivr.net/npm//vega-lib?noext\",\n",
       "      \"vega-lite\": \"https://cdn.jsdelivr.net/npm//vega-lite@4.17.0?noext\",\n",
       "      \"vega-embed\": \"https://cdn.jsdelivr.net/npm//vega-embed@6?noext\",\n",
       "    };\n",
       "\n",
       "    function maybeLoadScript(lib, version) {\n",
       "      var key = `${lib.replace(\"-\", \"\")}_version`;\n",
       "      return (VEGA_DEBUG[key] == version) ?\n",
       "        Promise.resolve(paths[lib]) :\n",
       "        new Promise(function(resolve, reject) {\n",
       "          var s = document.createElement('script');\n",
       "          document.getElementsByTagName(\"head\")[0].appendChild(s);\n",
       "          s.async = true;\n",
       "          s.onload = () => {\n",
       "            VEGA_DEBUG[key] = version;\n",
       "            return resolve(paths[lib]);\n",
       "          };\n",
       "          s.onerror = () => reject(`Error loading script: ${paths[lib]}`);\n",
       "          s.src = paths[lib];\n",
       "        });\n",
       "    }\n",
       "\n",
       "    function showError(err) {\n",
       "      outputDiv.innerHTML = `<div class=\"error\" style=\"color:red;\">${err}</div>`;\n",
       "      throw err;\n",
       "    }\n",
       "\n",
       "    function displayChart(vegaEmbed) {\n",
       "      vegaEmbed(outputDiv, spec, embedOpt)\n",
       "        .catch(err => showError(`Javascript Error: ${err.message}<br>This usually means there's a typo in your chart specification. See the javascript console for the full traceback.`));\n",
       "    }\n",
       "\n",
       "    if(typeof define === \"function\" && define.amd) {\n",
       "      requirejs.config({paths});\n",
       "      require([\"vega-embed\"], displayChart, err => showError(`Error loading script: ${err.message}`));\n",
       "    } else {\n",
       "      maybeLoadScript(\"vega\", \"5\")\n",
       "        .then(() => maybeLoadScript(\"vega-lite\", \"4.17.0\"))\n",
       "        .then(() => maybeLoadScript(\"vega-embed\", \"6\"))\n",
       "        .catch(showError)\n",
       "        .then(() => displayChart(vegaEmbed));\n",
       "    }\n",
       "  })({\"config\": {\"view\": {\"continuousWidth\": 400, \"continuousHeight\": 300}}, \"layer\": [{\"mark\": \"rect\", \"encoding\": {\"color\": {\"field\": \"corr\", \"scale\": {\"domain\": [-1, 1], \"scheme\": \"blueorange\"}, \"title\": \"Pearson correlation\", \"type\": \"quantitative\"}, \"x\": {\"field\": \"level_0\", \"title\": \"\", \"type\": \"nominal\"}, \"y\": {\"field\": \"level_1\", \"title\": \"\", \"type\": \"nominal\"}}, \"height\": 500, \"title\": \"Correlation plot of selected features\", \"width\": 600}, {\"mark\": {\"type\": \"text\", \"baseline\": \"middle\"}, \"encoding\": {\"color\": {\"value\": \"black\"}, \"text\": {\"field\": \"corr\", \"type\": \"quantitative\"}, \"x\": {\"field\": \"level_0\", \"title\": \"\", \"type\": \"nominal\"}, \"y\": {\"field\": \"level_1\", \"title\": \"\", \"type\": \"nominal\"}}, \"height\": 500, \"title\": \"Correlation plot of selected features\", \"width\": 600}], \"data\": {\"name\": \"data-5da34cfe8c4e50167e585c3ad08021b7\"}, \"$schema\": \"https://vega.github.io/schema/vega-lite/v4.17.0.json\", \"datasets\": {\"data-5da34cfe8c4e50167e585c3ad08021b7\": [{\"level_0\": \"BALANCE\", \"level_1\": \"BALANCE\", \"corr\": 1.0}, {\"level_0\": \"BALANCE\", \"level_1\": \"SCR\", \"corr\": -0.06}, {\"level_0\": \"BALANCE\", \"level_1\": \"HOLDING_PERIOD\", \"corr\": 0.04}, {\"level_0\": \"BALANCE\", \"level_1\": \"LEN_OF_RLTN_IN_MNTH\", \"corr\": -0.0}, {\"level_0\": \"BALANCE\", \"level_1\": \"NO_OF_L_CR_TXNS\", \"corr\": -0.05}, {\"level_0\": \"BALANCE\", \"level_1\": \"NO_OF_L_DR_TXNS\", \"corr\": -0.04}, {\"level_0\": \"BALANCE\", \"level_1\": \"AMT_OTH_BK_ATM_USG_CHGS\", \"corr\": -0.01}, {\"level_0\": \"BALANCE\", \"level_1\": \"AMT_MIN_BAL_NMC_CHGS\", \"corr\": -0.06}, {\"level_0\": \"BALANCE\", \"level_1\": \"AVG_AMT_PER_ATM_TXN\", \"corr\": -0.03}, {\"level_0\": \"BALANCE\", \"level_1\": \"AVG_AMT_PER_CSH_WDL_TXN\", \"corr\": 0.01}, {\"level_0\": \"BALANCE\", \"level_1\": \"AVG_AMT_PER_CHQ_TXN\", \"corr\": -0.02}, {\"level_0\": \"BALANCE\", \"level_1\": \"AVG_AMT_PER_NET_TXN\", \"corr\": -0.02}, {\"level_0\": \"BALANCE\", \"level_1\": \"AVG_AMT_PER_MOB_TXN\", \"corr\": -0.03}, {\"level_0\": \"SCR\", \"level_1\": \"BALANCE\", \"corr\": -0.06}, {\"level_0\": \"SCR\", \"level_1\": \"SCR\", \"corr\": 1.0}, {\"level_0\": \"SCR\", \"level_1\": \"HOLDING_PERIOD\", \"corr\": -0.02}, {\"level_0\": \"SCR\", \"level_1\": \"LEN_OF_RLTN_IN_MNTH\", \"corr\": 0.02}, {\"level_0\": \"SCR\", \"level_1\": \"NO_OF_L_CR_TXNS\", \"corr\": -0.01}, {\"level_0\": \"SCR\", \"level_1\": \"NO_OF_L_DR_TXNS\", \"corr\": 0.01}, {\"level_0\": \"SCR\", \"level_1\": \"AMT_OTH_BK_ATM_USG_CHGS\", \"corr\": 0.01}, {\"level_0\": \"SCR\", \"level_1\": \"AMT_MIN_BAL_NMC_CHGS\", \"corr\": 0.0}, {\"level_0\": \"SCR\", \"level_1\": \"AVG_AMT_PER_ATM_TXN\", \"corr\": 0.02}, {\"level_0\": \"SCR\", \"level_1\": \"AVG_AMT_PER_CSH_WDL_TXN\", \"corr\": -0.02}, {\"level_0\": \"SCR\", \"level_1\": \"AVG_AMT_PER_CHQ_TXN\", \"corr\": 0.0}, {\"level_0\": \"SCR\", \"level_1\": \"AVG_AMT_PER_NET_TXN\", \"corr\": 0.02}, {\"level_0\": \"SCR\", \"level_1\": \"AVG_AMT_PER_MOB_TXN\", \"corr\": -0.01}, {\"level_0\": \"HOLDING_PERIOD\", \"level_1\": \"BALANCE\", \"corr\": 0.04}, {\"level_0\": \"HOLDING_PERIOD\", \"level_1\": \"SCR\", \"corr\": -0.02}, {\"level_0\": \"HOLDING_PERIOD\", \"level_1\": \"HOLDING_PERIOD\", \"corr\": 1.0}, {\"level_0\": \"HOLDING_PERIOD\", \"level_1\": \"LEN_OF_RLTN_IN_MNTH\", \"corr\": 0.01}, {\"level_0\": \"HOLDING_PERIOD\", \"level_1\": \"NO_OF_L_CR_TXNS\", \"corr\": -0.01}, {\"level_0\": \"HOLDING_PERIOD\", \"level_1\": \"NO_OF_L_DR_TXNS\", \"corr\": -0.35}, {\"level_0\": \"HOLDING_PERIOD\", \"level_1\": \"AMT_OTH_BK_ATM_USG_CHGS\", \"corr\": -0.08}, {\"level_0\": \"HOLDING_PERIOD\", \"level_1\": \"AMT_MIN_BAL_NMC_CHGS\", \"corr\": -0.0}, {\"level_0\": \"HOLDING_PERIOD\", \"level_1\": \"AVG_AMT_PER_ATM_TXN\", \"corr\": -0.17}, {\"level_0\": \"HOLDING_PERIOD\", \"level_1\": \"AVG_AMT_PER_CSH_WDL_TXN\", \"corr\": 0.05}, {\"level_0\": \"HOLDING_PERIOD\", \"level_1\": \"AVG_AMT_PER_CHQ_TXN\", \"corr\": -0.2}, {\"level_0\": \"HOLDING_PERIOD\", \"level_1\": \"AVG_AMT_PER_NET_TXN\", \"corr\": -0.11}, {\"level_0\": \"HOLDING_PERIOD\", \"level_1\": \"AVG_AMT_PER_MOB_TXN\", \"corr\": -0.08}, {\"level_0\": \"LEN_OF_RLTN_IN_MNTH\", \"level_1\": \"BALANCE\", \"corr\": -0.0}, {\"level_0\": \"LEN_OF_RLTN_IN_MNTH\", \"level_1\": \"SCR\", \"corr\": 0.02}, {\"level_0\": \"LEN_OF_RLTN_IN_MNTH\", \"level_1\": \"HOLDING_PERIOD\", \"corr\": 0.01}, {\"level_0\": \"LEN_OF_RLTN_IN_MNTH\", \"level_1\": \"LEN_OF_RLTN_IN_MNTH\", \"corr\": 1.0}, {\"level_0\": \"LEN_OF_RLTN_IN_MNTH\", \"level_1\": \"NO_OF_L_CR_TXNS\", \"corr\": 0.03}, {\"level_0\": \"LEN_OF_RLTN_IN_MNTH\", \"level_1\": \"NO_OF_L_DR_TXNS\", \"corr\": 0.01}, {\"level_0\": \"LEN_OF_RLTN_IN_MNTH\", \"level_1\": \"AMT_OTH_BK_ATM_USG_CHGS\", \"corr\": -0.01}, {\"level_0\": \"LEN_OF_RLTN_IN_MNTH\", \"level_1\": \"AMT_MIN_BAL_NMC_CHGS\", \"corr\": -0.01}, {\"level_0\": \"LEN_OF_RLTN_IN_MNTH\", \"level_1\": \"AVG_AMT_PER_ATM_TXN\", \"corr\": -0.01}, {\"level_0\": \"LEN_OF_RLTN_IN_MNTH\", \"level_1\": \"AVG_AMT_PER_CSH_WDL_TXN\", \"corr\": 0.0}, {\"level_0\": \"LEN_OF_RLTN_IN_MNTH\", \"level_1\": \"AVG_AMT_PER_CHQ_TXN\", \"corr\": 0.02}, {\"level_0\": \"LEN_OF_RLTN_IN_MNTH\", \"level_1\": \"AVG_AMT_PER_NET_TXN\", \"corr\": -0.0}, {\"level_0\": \"LEN_OF_RLTN_IN_MNTH\", \"level_1\": \"AVG_AMT_PER_MOB_TXN\", \"corr\": -0.0}, {\"level_0\": \"NO_OF_L_CR_TXNS\", \"level_1\": \"BALANCE\", \"corr\": -0.05}, {\"level_0\": \"NO_OF_L_CR_TXNS\", \"level_1\": \"SCR\", \"corr\": -0.01}, {\"level_0\": \"NO_OF_L_CR_TXNS\", \"level_1\": \"HOLDING_PERIOD\", \"corr\": -0.01}, {\"level_0\": \"NO_OF_L_CR_TXNS\", \"level_1\": \"LEN_OF_RLTN_IN_MNTH\", \"corr\": 0.03}, {\"level_0\": \"NO_OF_L_CR_TXNS\", \"level_1\": \"NO_OF_L_CR_TXNS\", \"corr\": 1.0}, {\"level_0\": \"NO_OF_L_CR_TXNS\", \"level_1\": \"NO_OF_L_DR_TXNS\", \"corr\": 0.58}, {\"level_0\": \"NO_OF_L_CR_TXNS\", \"level_1\": \"AMT_OTH_BK_ATM_USG_CHGS\", \"corr\": 0.32}, {\"level_0\": \"NO_OF_L_CR_TXNS\", \"level_1\": \"AMT_MIN_BAL_NMC_CHGS\", \"corr\": 0.03}, {\"level_0\": \"NO_OF_L_CR_TXNS\", \"level_1\": \"AVG_AMT_PER_ATM_TXN\", \"corr\": 0.2}, {\"level_0\": \"NO_OF_L_CR_TXNS\", \"level_1\": \"AVG_AMT_PER_CSH_WDL_TXN\", \"corr\": -0.07}, {\"level_0\": \"NO_OF_L_CR_TXNS\", \"level_1\": \"AVG_AMT_PER_CHQ_TXN\", \"corr\": 0.3}, {\"level_0\": \"NO_OF_L_CR_TXNS\", \"level_1\": \"AVG_AMT_PER_NET_TXN\", \"corr\": -0.08}, {\"level_0\": \"NO_OF_L_CR_TXNS\", \"level_1\": \"AVG_AMT_PER_MOB_TXN\", \"corr\": 0.34}, {\"level_0\": \"NO_OF_L_DR_TXNS\", \"level_1\": \"BALANCE\", \"corr\": -0.04}, {\"level_0\": \"NO_OF_L_DR_TXNS\", \"level_1\": \"SCR\", \"corr\": 0.01}, {\"level_0\": \"NO_OF_L_DR_TXNS\", \"level_1\": \"HOLDING_PERIOD\", \"corr\": -0.35}, {\"level_0\": \"NO_OF_L_DR_TXNS\", \"level_1\": \"LEN_OF_RLTN_IN_MNTH\", \"corr\": 0.01}, {\"level_0\": \"NO_OF_L_DR_TXNS\", \"level_1\": \"NO_OF_L_CR_TXNS\", \"corr\": 0.58}, {\"level_0\": \"NO_OF_L_DR_TXNS\", \"level_1\": \"NO_OF_L_DR_TXNS\", \"corr\": 1.0}, {\"level_0\": \"NO_OF_L_DR_TXNS\", \"level_1\": \"AMT_OTH_BK_ATM_USG_CHGS\", \"corr\": 0.57}, {\"level_0\": \"NO_OF_L_DR_TXNS\", \"level_1\": \"AMT_MIN_BAL_NMC_CHGS\", \"corr\": 0.01}, {\"level_0\": \"NO_OF_L_DR_TXNS\", \"level_1\": \"AVG_AMT_PER_ATM_TXN\", \"corr\": 0.32}, {\"level_0\": \"NO_OF_L_DR_TXNS\", \"level_1\": \"AVG_AMT_PER_CSH_WDL_TXN\", \"corr\": -0.14}, {\"level_0\": \"NO_OF_L_DR_TXNS\", \"level_1\": \"AVG_AMT_PER_CHQ_TXN\", \"corr\": 0.49}, {\"level_0\": \"NO_OF_L_DR_TXNS\", \"level_1\": \"AVG_AMT_PER_NET_TXN\", \"corr\": -0.04}, {\"level_0\": \"NO_OF_L_DR_TXNS\", \"level_1\": \"AVG_AMT_PER_MOB_TXN\", \"corr\": 0.41}, {\"level_0\": \"AMT_OTH_BK_ATM_USG_CHGS\", \"level_1\": \"BALANCE\", \"corr\": -0.01}, {\"level_0\": \"AMT_OTH_BK_ATM_USG_CHGS\", \"level_1\": \"SCR\", \"corr\": 0.01}, {\"level_0\": \"AMT_OTH_BK_ATM_USG_CHGS\", \"level_1\": \"HOLDING_PERIOD\", \"corr\": -0.08}, {\"level_0\": \"AMT_OTH_BK_ATM_USG_CHGS\", \"level_1\": \"LEN_OF_RLTN_IN_MNTH\", \"corr\": -0.01}, {\"level_0\": \"AMT_OTH_BK_ATM_USG_CHGS\", \"level_1\": \"NO_OF_L_CR_TXNS\", \"corr\": 0.32}, {\"level_0\": \"AMT_OTH_BK_ATM_USG_CHGS\", \"level_1\": \"NO_OF_L_DR_TXNS\", \"corr\": 0.57}, {\"level_0\": \"AMT_OTH_BK_ATM_USG_CHGS\", \"level_1\": \"AMT_OTH_BK_ATM_USG_CHGS\", \"corr\": 1.0}, {\"level_0\": \"AMT_OTH_BK_ATM_USG_CHGS\", \"level_1\": \"AMT_MIN_BAL_NMC_CHGS\", \"corr\": 0.01}, {\"level_0\": \"AMT_OTH_BK_ATM_USG_CHGS\", \"level_1\": \"AVG_AMT_PER_ATM_TXN\", \"corr\": -0.01}, {\"level_0\": \"AMT_OTH_BK_ATM_USG_CHGS\", \"level_1\": \"AVG_AMT_PER_CSH_WDL_TXN\", \"corr\": -0.05}, {\"level_0\": \"AMT_OTH_BK_ATM_USG_CHGS\", \"level_1\": \"AVG_AMT_PER_CHQ_TXN\", \"corr\": 0.09}, {\"level_0\": \"AMT_OTH_BK_ATM_USG_CHGS\", \"level_1\": \"AVG_AMT_PER_NET_TXN\", \"corr\": -0.04}, {\"level_0\": \"AMT_OTH_BK_ATM_USG_CHGS\", \"level_1\": \"AVG_AMT_PER_MOB_TXN\", \"corr\": -0.02}, {\"level_0\": \"AMT_MIN_BAL_NMC_CHGS\", \"level_1\": \"BALANCE\", \"corr\": -0.06}, {\"level_0\": \"AMT_MIN_BAL_NMC_CHGS\", \"level_1\": \"SCR\", \"corr\": 0.0}, {\"level_0\": \"AMT_MIN_BAL_NMC_CHGS\", \"level_1\": \"HOLDING_PERIOD\", \"corr\": -0.0}, {\"level_0\": \"AMT_MIN_BAL_NMC_CHGS\", \"level_1\": \"LEN_OF_RLTN_IN_MNTH\", \"corr\": -0.01}, {\"level_0\": \"AMT_MIN_BAL_NMC_CHGS\", \"level_1\": \"NO_OF_L_CR_TXNS\", \"corr\": 0.03}, {\"level_0\": \"AMT_MIN_BAL_NMC_CHGS\", \"level_1\": \"NO_OF_L_DR_TXNS\", \"corr\": 0.01}, {\"level_0\": \"AMT_MIN_BAL_NMC_CHGS\", \"level_1\": \"AMT_OTH_BK_ATM_USG_CHGS\", \"corr\": 0.01}, {\"level_0\": \"AMT_MIN_BAL_NMC_CHGS\", \"level_1\": \"AMT_MIN_BAL_NMC_CHGS\", \"corr\": 1.0}, {\"level_0\": \"AMT_MIN_BAL_NMC_CHGS\", \"level_1\": \"AVG_AMT_PER_ATM_TXN\", \"corr\": -0.0}, {\"level_0\": \"AMT_MIN_BAL_NMC_CHGS\", \"level_1\": \"AVG_AMT_PER_CSH_WDL_TXN\", \"corr\": -0.01}, {\"level_0\": \"AMT_MIN_BAL_NMC_CHGS\", \"level_1\": \"AVG_AMT_PER_CHQ_TXN\", \"corr\": -0.01}, {\"level_0\": \"AMT_MIN_BAL_NMC_CHGS\", \"level_1\": \"AVG_AMT_PER_NET_TXN\", \"corr\": -0.01}, {\"level_0\": \"AMT_MIN_BAL_NMC_CHGS\", \"level_1\": \"AVG_AMT_PER_MOB_TXN\", \"corr\": 0.02}, {\"level_0\": \"AVG_AMT_PER_ATM_TXN\", \"level_1\": \"BALANCE\", \"corr\": -0.03}, {\"level_0\": \"AVG_AMT_PER_ATM_TXN\", \"level_1\": \"SCR\", \"corr\": 0.02}, {\"level_0\": \"AVG_AMT_PER_ATM_TXN\", \"level_1\": \"HOLDING_PERIOD\", \"corr\": -0.17}, {\"level_0\": \"AVG_AMT_PER_ATM_TXN\", \"level_1\": \"LEN_OF_RLTN_IN_MNTH\", \"corr\": -0.01}, {\"level_0\": \"AVG_AMT_PER_ATM_TXN\", \"level_1\": \"NO_OF_L_CR_TXNS\", \"corr\": 0.2}, {\"level_0\": \"AVG_AMT_PER_ATM_TXN\", \"level_1\": \"NO_OF_L_DR_TXNS\", \"corr\": 0.32}, {\"level_0\": \"AVG_AMT_PER_ATM_TXN\", \"level_1\": \"AMT_OTH_BK_ATM_USG_CHGS\", \"corr\": -0.01}, {\"level_0\": \"AVG_AMT_PER_ATM_TXN\", \"level_1\": \"AMT_MIN_BAL_NMC_CHGS\", \"corr\": -0.0}, {\"level_0\": \"AVG_AMT_PER_ATM_TXN\", \"level_1\": \"AVG_AMT_PER_ATM_TXN\", \"corr\": 1.0}, {\"level_0\": \"AVG_AMT_PER_ATM_TXN\", \"level_1\": \"AVG_AMT_PER_CSH_WDL_TXN\", \"corr\": -0.02}, {\"level_0\": \"AVG_AMT_PER_ATM_TXN\", \"level_1\": \"AVG_AMT_PER_CHQ_TXN\", \"corr\": 0.17}, {\"level_0\": \"AVG_AMT_PER_ATM_TXN\", \"level_1\": \"AVG_AMT_PER_NET_TXN\", \"corr\": 0.14}, {\"level_0\": \"AVG_AMT_PER_ATM_TXN\", \"level_1\": \"AVG_AMT_PER_MOB_TXN\", \"corr\": 0.19}, {\"level_0\": \"AVG_AMT_PER_CSH_WDL_TXN\", \"level_1\": \"BALANCE\", \"corr\": 0.01}, {\"level_0\": \"AVG_AMT_PER_CSH_WDL_TXN\", \"level_1\": \"SCR\", \"corr\": -0.02}, {\"level_0\": \"AVG_AMT_PER_CSH_WDL_TXN\", \"level_1\": \"HOLDING_PERIOD\", \"corr\": 0.05}, {\"level_0\": \"AVG_AMT_PER_CSH_WDL_TXN\", \"level_1\": \"LEN_OF_RLTN_IN_MNTH\", \"corr\": 0.0}, {\"level_0\": \"AVG_AMT_PER_CSH_WDL_TXN\", \"level_1\": \"NO_OF_L_CR_TXNS\", \"corr\": -0.07}, {\"level_0\": \"AVG_AMT_PER_CSH_WDL_TXN\", \"level_1\": \"NO_OF_L_DR_TXNS\", \"corr\": -0.14}, {\"level_0\": \"AVG_AMT_PER_CSH_WDL_TXN\", \"level_1\": \"AMT_OTH_BK_ATM_USG_CHGS\", \"corr\": -0.05}, {\"level_0\": \"AVG_AMT_PER_CSH_WDL_TXN\", \"level_1\": \"AMT_MIN_BAL_NMC_CHGS\", \"corr\": -0.01}, {\"level_0\": \"AVG_AMT_PER_CSH_WDL_TXN\", \"level_1\": \"AVG_AMT_PER_ATM_TXN\", \"corr\": -0.02}, {\"level_0\": \"AVG_AMT_PER_CSH_WDL_TXN\", \"level_1\": \"AVG_AMT_PER_CSH_WDL_TXN\", \"corr\": 1.0}, {\"level_0\": \"AVG_AMT_PER_CSH_WDL_TXN\", \"level_1\": \"AVG_AMT_PER_CHQ_TXN\", \"corr\": -0.04}, {\"level_0\": \"AVG_AMT_PER_CSH_WDL_TXN\", \"level_1\": \"AVG_AMT_PER_NET_TXN\", \"corr\": 0.07}, {\"level_0\": \"AVG_AMT_PER_CSH_WDL_TXN\", \"level_1\": \"AVG_AMT_PER_MOB_TXN\", \"corr\": -0.13}, {\"level_0\": \"AVG_AMT_PER_CHQ_TXN\", \"level_1\": \"BALANCE\", \"corr\": -0.02}, {\"level_0\": \"AVG_AMT_PER_CHQ_TXN\", \"level_1\": \"SCR\", \"corr\": 0.0}, {\"level_0\": \"AVG_AMT_PER_CHQ_TXN\", \"level_1\": \"HOLDING_PERIOD\", \"corr\": -0.2}, {\"level_0\": \"AVG_AMT_PER_CHQ_TXN\", \"level_1\": \"LEN_OF_RLTN_IN_MNTH\", \"corr\": 0.02}, {\"level_0\": \"AVG_AMT_PER_CHQ_TXN\", \"level_1\": \"NO_OF_L_CR_TXNS\", \"corr\": 0.3}, {\"level_0\": \"AVG_AMT_PER_CHQ_TXN\", \"level_1\": \"NO_OF_L_DR_TXNS\", \"corr\": 0.49}, {\"level_0\": \"AVG_AMT_PER_CHQ_TXN\", \"level_1\": \"AMT_OTH_BK_ATM_USG_CHGS\", \"corr\": 0.09}, {\"level_0\": \"AVG_AMT_PER_CHQ_TXN\", \"level_1\": \"AMT_MIN_BAL_NMC_CHGS\", \"corr\": -0.01}, {\"level_0\": \"AVG_AMT_PER_CHQ_TXN\", \"level_1\": \"AVG_AMT_PER_ATM_TXN\", \"corr\": 0.17}, {\"level_0\": \"AVG_AMT_PER_CHQ_TXN\", \"level_1\": \"AVG_AMT_PER_CSH_WDL_TXN\", \"corr\": -0.04}, {\"level_0\": \"AVG_AMT_PER_CHQ_TXN\", \"level_1\": \"AVG_AMT_PER_CHQ_TXN\", \"corr\": 1.0}, {\"level_0\": \"AVG_AMT_PER_CHQ_TXN\", \"level_1\": \"AVG_AMT_PER_NET_TXN\", \"corr\": -0.03}, {\"level_0\": \"AVG_AMT_PER_CHQ_TXN\", \"level_1\": \"AVG_AMT_PER_MOB_TXN\", \"corr\": 0.3}, {\"level_0\": \"AVG_AMT_PER_NET_TXN\", \"level_1\": \"BALANCE\", \"corr\": -0.02}, {\"level_0\": \"AVG_AMT_PER_NET_TXN\", \"level_1\": \"SCR\", \"corr\": 0.02}, {\"level_0\": \"AVG_AMT_PER_NET_TXN\", \"level_1\": \"HOLDING_PERIOD\", \"corr\": -0.11}, {\"level_0\": \"AVG_AMT_PER_NET_TXN\", \"level_1\": \"LEN_OF_RLTN_IN_MNTH\", \"corr\": -0.0}, {\"level_0\": \"AVG_AMT_PER_NET_TXN\", \"level_1\": \"NO_OF_L_CR_TXNS\", \"corr\": -0.08}, {\"level_0\": \"AVG_AMT_PER_NET_TXN\", \"level_1\": \"NO_OF_L_DR_TXNS\", \"corr\": -0.04}, {\"level_0\": \"AVG_AMT_PER_NET_TXN\", \"level_1\": \"AMT_OTH_BK_ATM_USG_CHGS\", \"corr\": -0.04}, {\"level_0\": \"AVG_AMT_PER_NET_TXN\", \"level_1\": \"AMT_MIN_BAL_NMC_CHGS\", \"corr\": -0.01}, {\"level_0\": \"AVG_AMT_PER_NET_TXN\", \"level_1\": \"AVG_AMT_PER_ATM_TXN\", \"corr\": 0.14}, {\"level_0\": \"AVG_AMT_PER_NET_TXN\", \"level_1\": \"AVG_AMT_PER_CSH_WDL_TXN\", \"corr\": 0.07}, {\"level_0\": \"AVG_AMT_PER_NET_TXN\", \"level_1\": \"AVG_AMT_PER_CHQ_TXN\", \"corr\": -0.03}, {\"level_0\": \"AVG_AMT_PER_NET_TXN\", \"level_1\": \"AVG_AMT_PER_NET_TXN\", \"corr\": 1.0}, {\"level_0\": \"AVG_AMT_PER_NET_TXN\", \"level_1\": \"AVG_AMT_PER_MOB_TXN\", \"corr\": -0.15}, {\"level_0\": \"AVG_AMT_PER_MOB_TXN\", \"level_1\": \"BALANCE\", \"corr\": -0.03}, {\"level_0\": \"AVG_AMT_PER_MOB_TXN\", \"level_1\": \"SCR\", \"corr\": -0.01}, {\"level_0\": \"AVG_AMT_PER_MOB_TXN\", \"level_1\": \"HOLDING_PERIOD\", \"corr\": -0.08}, {\"level_0\": \"AVG_AMT_PER_MOB_TXN\", \"level_1\": \"LEN_OF_RLTN_IN_MNTH\", \"corr\": -0.0}, {\"level_0\": \"AVG_AMT_PER_MOB_TXN\", \"level_1\": \"NO_OF_L_CR_TXNS\", \"corr\": 0.34}, {\"level_0\": \"AVG_AMT_PER_MOB_TXN\", \"level_1\": \"NO_OF_L_DR_TXNS\", \"corr\": 0.41}, {\"level_0\": \"AVG_AMT_PER_MOB_TXN\", \"level_1\": \"AMT_OTH_BK_ATM_USG_CHGS\", \"corr\": -0.02}, {\"level_0\": \"AVG_AMT_PER_MOB_TXN\", \"level_1\": \"AMT_MIN_BAL_NMC_CHGS\", \"corr\": 0.02}, {\"level_0\": \"AVG_AMT_PER_MOB_TXN\", \"level_1\": \"AVG_AMT_PER_ATM_TXN\", \"corr\": 0.19}, {\"level_0\": \"AVG_AMT_PER_MOB_TXN\", \"level_1\": \"AVG_AMT_PER_CSH_WDL_TXN\", \"corr\": -0.13}, {\"level_0\": \"AVG_AMT_PER_MOB_TXN\", \"level_1\": \"AVG_AMT_PER_CHQ_TXN\", \"corr\": 0.3}, {\"level_0\": \"AVG_AMT_PER_MOB_TXN\", \"level_1\": \"AVG_AMT_PER_NET_TXN\", \"corr\": -0.15}, {\"level_0\": \"AVG_AMT_PER_MOB_TXN\", \"level_1\": \"AVG_AMT_PER_MOB_TXN\", \"corr\": 1.0}]}}, {\"mode\": \"vega-lite\"});\n",
       "</script>"
      ],
      "text/plain": [
       "alt.LayerChart(...)"
      ]
     },
     "execution_count": 25,
     "metadata": {},
     "output_type": "execute_result"
    }
   ],
   "source": [
    "train_corr_selected_features = train_df[numeric_cols_remove_collinear].corr().stack().reset_index(name='corr')\n",
    "train_corr_selected_features['corr'] = round(train_corr_selected_features['corr'], 2)\n",
    "\n",
    "train_corr_selected_features_plot = (\n",
    "    alt.Chart(train_corr_selected_features, title='Correlation plot of selected features')\n",
    "       .encode(x=alt.X('level_0', title=''),\n",
    "               y=alt.Y('level_1', title=''),\n",
    "               color=alt.Color('corr', scale=alt.Scale(scheme='blueorange',\n",
    "                                                       domain=(-1, 1))\n",
    "                               , title='Pearson correlation'))\n",
    "       .mark_rect()).properties(width=600, height=500\n",
    ")\n",
    "\n",
    "train_corr_selected_features_plot = train_corr_selected_features_plot + train_corr_selected_features_plot.mark_text(baseline='middle').encode(\n",
    "    text='corr:Q',\n",
    "    color=alt.value('black'))\n",
    "\n",
    "train_corr_selected_features_plot"
   ]
  },
  {
   "cell_type": "markdown",
   "id": "245562be-f33a-41dc-af70-8412060f1ea6",
   "metadata": {},
   "source": [
    "#### _Handle class imbalance with SMOTE and SMOTE + undersampling_"
   ]
  },
  {
   "cell_type": "code",
   "execution_count": 13,
   "id": "c2f98d76-8159-44f2-9516-dacf62438cfc",
   "metadata": {
    "tags": []
   },
   "outputs": [],
   "source": [
    "oversampling_with_smote = SMOTE()\n",
    "\n",
    "# transform the dataset\n",
    "X_smote, y_smote = oversampling_with_smote.fit_resample(X_train_transformed, y_train)\n",
    "\n",
    "# define pipeline for SMOTE with undersampling\n",
    "over = SMOTE(sampling_strategy=0.3)\n",
    "under = RandomUnderSampler(sampling_strategy=0.6)\n",
    "steps = [('o', over), ('u', under)]\n",
    "pipeline = Pipeline(steps=steps)\n",
    "\n",
    "# transform the dataset\n",
    "X_smote_under, y_smote_under = pipeline.fit_resample(X_train_transformed, y_train)"
   ]
  },
  {
   "cell_type": "code",
   "execution_count": 14,
   "id": "32550040-ecb7-4807-9e3f-9d4752d62904",
   "metadata": {},
   "outputs": [
    {
     "name": "stdout",
     "output_type": "stream",
     "text": [
      "0    14010\n",
      "1     1990\n",
      "Name: TARGET, dtype: int64\n",
      "0    14010\n",
      "1    14010\n",
      "Name: TARGET, dtype: int64\n",
      "0    7005\n",
      "1    4203\n",
      "Name: TARGET, dtype: int64\n"
     ]
    }
   ],
   "source": [
    "print(y_train.value_counts())\n",
    "print(y_smote.value_counts())\n",
    "print(y_smote_under.value_counts())"
   ]
  },
  {
   "cell_type": "code",
   "execution_count": 15,
   "id": "6c166711-c7df-4533-b13a-d3ea15e11a45",
   "metadata": {},
   "outputs": [],
   "source": [
    "results_linear_models = {}\n",
    "results_tree_models = {}\n",
    "results_non_linear_models = {}"
   ]
  },
  {
   "cell_type": "markdown",
   "id": "0ada950e-0359-4dfe-b312-3fd3c350b488",
   "metadata": {},
   "source": [
    "#### Decision Tree Model "
   ]
  },
  {
   "cell_type": "code",
   "execution_count": 16,
   "id": "0123964d-b45f-4bf5-9055-bbca12011cb7",
   "metadata": {},
   "outputs": [],
   "source": [
    "# Model with class_weight = 'balanced'\n",
    "model_decisiontree = make_pipeline(preprocessor, DecisionTreeClassifier(random_state=123,\n",
    "                                                                        class_weight='balanced'))\n",
    "model_decisiontree.fit(X_train, y_train)\n",
    "\n",
    "results_tree_models['DecisionTree'] = mean_std_cross_val_scores(model_decisiontree,\n",
    "                                                                X_train,\n",
    "                                                                y_train,\n",
    "                                                                return_train_score=True,\n",
    "                                                                scoring=scoring_metrics\n",
    "                                                               )\n",
    "\n",
    "# Use preprocessor without multicollinear features and class_weight = 'balanced'\n",
    "model_decisiontree_selected_features = make_pipeline(preprocessor_remove_multicolinear, \n",
    "                                                     DecisionTreeClassifier(random_state=123, class_weight='balanced'))\n",
    "model_decisiontree_selected_features.fit(X_train, y_train)\n",
    "\n",
    "results_tree_models['DecisionTree_selected_features'] = mean_std_cross_val_scores(model_decisiontree_selected_features,\n",
    "                                                                   X_train,\n",
    "                                                                   y_train,\n",
    "                                                                   return_train_score=True,\n",
    "                                                                   scoring=scoring_metrics)\n",
    "\n",
    "\n",
    "# Model with smote dataset\n",
    "model_decisiontree_smote = DecisionTreeClassifier(random_state=123)\n",
    "results_tree_models['DecisionTree_smote'] = mean_std_cross_val_scores(model_decisiontree_smote,\n",
    "                                                                      X_smote,\n",
    "                                                                      y_smote,\n",
    "                                                                      return_train_score=True,\n",
    "                                                                      scoring=scoring_metrics)\n",
    "\n",
    "# Model with smote + undersample dataset\n",
    "model_decisiontree_smote_under = DecisionTreeClassifier(random_state=123)\n",
    "results_tree_models['DecisionTree_smote_undersampling'] = mean_std_cross_val_scores(model_decisiontree_smote_under,\n",
    "                                                                            X_smote_under,\n",
    "                                                                            y_smote_under,\n",
    "                                                                            return_train_score=True,\n",
    "                                                                            scoring=scoring_metrics)"
   ]
  },
  {
   "cell_type": "code",
   "execution_count": 17,
   "id": "fb5d7b6f-d143-40da-88e4-49ea292e3baa",
   "metadata": {},
   "outputs": [
    {
     "data": {
      "text/html": [
       "<div>\n",
       "<style scoped>\n",
       "    .dataframe tbody tr th:only-of-type {\n",
       "        vertical-align: middle;\n",
       "    }\n",
       "\n",
       "    .dataframe tbody tr th {\n",
       "        vertical-align: top;\n",
       "    }\n",
       "\n",
       "    .dataframe thead th {\n",
       "        text-align: right;\n",
       "    }\n",
       "</style>\n",
       "<table border=\"1\" class=\"dataframe\">\n",
       "  <thead>\n",
       "    <tr style=\"text-align: right;\">\n",
       "      <th></th>\n",
       "      <th>DecisionTree</th>\n",
       "      <th>DecisionTree_selected_features</th>\n",
       "      <th>DecisionTree_smote</th>\n",
       "      <th>DecisionTree_smote_undersampling</th>\n",
       "    </tr>\n",
       "  </thead>\n",
       "  <tbody>\n",
       "    <tr>\n",
       "      <th>fit_time</th>\n",
       "      <td>0.237 (+/- 0.031)</td>\n",
       "      <td>0.137 (+/- 0.006)</td>\n",
       "      <td>0.262 (+/- 0.019)</td>\n",
       "      <td>0.084 (+/- 0.007)</td>\n",
       "    </tr>\n",
       "    <tr>\n",
       "      <th>score_time</th>\n",
       "      <td>0.018 (+/- 0.004)</td>\n",
       "      <td>0.017 (+/- 0.002)</td>\n",
       "      <td>0.006 (+/- 0.009)</td>\n",
       "      <td>0.006 (+/- 0.009)</td>\n",
       "    </tr>\n",
       "    <tr>\n",
       "      <th>test_precision</th>\n",
       "      <td>0.708 (+/- 0.022)</td>\n",
       "      <td>0.723 (+/- 0.027)</td>\n",
       "      <td>0.942 (+/- 0.009)</td>\n",
       "      <td>0.818 (+/- 0.012)</td>\n",
       "    </tr>\n",
       "    <tr>\n",
       "      <th>train_precision</th>\n",
       "      <td>1.000 (+/- 0.000)</td>\n",
       "      <td>1.000 (+/- 0.000)</td>\n",
       "      <td>1.000 (+/- 0.000)</td>\n",
       "      <td>1.000 (+/- 0.000)</td>\n",
       "    </tr>\n",
       "    <tr>\n",
       "      <th>test_accuracy</th>\n",
       "      <td>0.930 (+/- 0.006)</td>\n",
       "      <td>0.933 (+/- 0.006)</td>\n",
       "      <td>0.947 (+/- 0.014)</td>\n",
       "      <td>0.875 (+/- 0.019)</td>\n",
       "    </tr>\n",
       "    <tr>\n",
       "      <th>train_accuracy</th>\n",
       "      <td>1.000 (+/- 0.000)</td>\n",
       "      <td>1.000 (+/- 0.000)</td>\n",
       "      <td>1.000 (+/- 0.000)</td>\n",
       "      <td>1.000 (+/- 0.000)</td>\n",
       "    </tr>\n",
       "    <tr>\n",
       "      <th>test_f1</th>\n",
       "      <td>0.727 (+/- 0.031)</td>\n",
       "      <td>0.737 (+/- 0.025)</td>\n",
       "      <td>0.947 (+/- 0.016)</td>\n",
       "      <td>0.837 (+/- 0.028)</td>\n",
       "    </tr>\n",
       "    <tr>\n",
       "      <th>train_f1</th>\n",
       "      <td>1.000 (+/- 0.000)</td>\n",
       "      <td>1.000 (+/- 0.000)</td>\n",
       "      <td>1.000 (+/- 0.000)</td>\n",
       "      <td>1.000 (+/- 0.000)</td>\n",
       "    </tr>\n",
       "    <tr>\n",
       "      <th>test_recall</th>\n",
       "      <td>0.747 (+/- 0.049)</td>\n",
       "      <td>0.754 (+/- 0.040)</td>\n",
       "      <td>0.954 (+/- 0.039)</td>\n",
       "      <td>0.858 (+/- 0.049)</td>\n",
       "    </tr>\n",
       "    <tr>\n",
       "      <th>train_recall</th>\n",
       "      <td>1.000 (+/- 0.000)</td>\n",
       "      <td>1.000 (+/- 0.000)</td>\n",
       "      <td>1.000 (+/- 0.000)</td>\n",
       "      <td>1.000 (+/- 0.000)</td>\n",
       "    </tr>\n",
       "  </tbody>\n",
       "</table>\n",
       "</div>"
      ],
      "text/plain": [
       "                      DecisionTree DecisionTree_selected_features  \\\n",
       "fit_time         0.237 (+/- 0.031)              0.137 (+/- 0.006)   \n",
       "score_time       0.018 (+/- 0.004)              0.017 (+/- 0.002)   \n",
       "test_precision   0.708 (+/- 0.022)              0.723 (+/- 0.027)   \n",
       "train_precision  1.000 (+/- 0.000)              1.000 (+/- 0.000)   \n",
       "test_accuracy    0.930 (+/- 0.006)              0.933 (+/- 0.006)   \n",
       "train_accuracy   1.000 (+/- 0.000)              1.000 (+/- 0.000)   \n",
       "test_f1          0.727 (+/- 0.031)              0.737 (+/- 0.025)   \n",
       "train_f1         1.000 (+/- 0.000)              1.000 (+/- 0.000)   \n",
       "test_recall      0.747 (+/- 0.049)              0.754 (+/- 0.040)   \n",
       "train_recall     1.000 (+/- 0.000)              1.000 (+/- 0.000)   \n",
       "\n",
       "                DecisionTree_smote DecisionTree_smote_undersampling  \n",
       "fit_time         0.262 (+/- 0.019)                0.084 (+/- 0.007)  \n",
       "score_time       0.006 (+/- 0.009)                0.006 (+/- 0.009)  \n",
       "test_precision   0.942 (+/- 0.009)                0.818 (+/- 0.012)  \n",
       "train_precision  1.000 (+/- 0.000)                1.000 (+/- 0.000)  \n",
       "test_accuracy    0.947 (+/- 0.014)                0.875 (+/- 0.019)  \n",
       "train_accuracy   1.000 (+/- 0.000)                1.000 (+/- 0.000)  \n",
       "test_f1          0.947 (+/- 0.016)                0.837 (+/- 0.028)  \n",
       "train_f1         1.000 (+/- 0.000)                1.000 (+/- 0.000)  \n",
       "test_recall      0.954 (+/- 0.039)                0.858 (+/- 0.049)  \n",
       "train_recall     1.000 (+/- 0.000)                1.000 (+/- 0.000)  "
      ]
     },
     "execution_count": 17,
     "metadata": {},
     "output_type": "execute_result"
    }
   ],
   "source": [
    "pd.DataFrame(results_tree_models)"
   ]
  },
  {
   "cell_type": "markdown",
   "id": "c3e8dfee-1887-48de-969e-9aa0d996bba5",
   "metadata": {},
   "source": [
    "**Observations**:\n",
    "\n",
    "1. Scores seems to be little improved after removing multicollinear features but the improvement cannot be termed as significant as Decision Tree classifiers are robust to multicolinearity. \n",
    "\n",
    "2. SMOTE is performed on selected features and seems to be providing the best scores though they are overfitted. \n",
    "\n",
    "3. The SMOTE + undersampling is observed to be performing better than handling imbalance with class_weight parameter even when the examples in SMOTE + undersampling is less than original sample."
   ]
  },
  {
   "cell_type": "code",
   "execution_count": 18,
   "id": "f35f83c7-da4c-4638-bdfb-6ab2fe08e643",
   "metadata": {},
   "outputs": [],
   "source": [
    "model_lr = make_pipeline(preprocessor, LogisticRegression(random_state=123, max_iter=2000, \n",
    "                                                          class_weight='balanced'))\n",
    "model_lr.fit(X_train, y_train)\n",
    "results_linear_models['Logistic Regression'] = mean_std_cross_val_scores(model_lr, X_train, y_train,\n",
    "                                                                        return_train_score=True, \n",
    "                                                                         scoring=scoring_metrics)\n",
    "\n",
    "\n",
    "model_lr_selected_features = make_pipeline(preprocessor_remove_multicolinear, LogisticRegression(random_state=123, \n",
    "                                                                                  max_iter=2000, \n",
    "                                                                                  class_weight='balanced'))\n",
    "model_lr_selected_features.fit(X_train, y_train)\n",
    "results_linear_models['Logistic Regression selected features'] = mean_std_cross_val_scores(model_lr_selected_features,\n",
    "                                                                            X_train,\n",
    "                                                                            y_train,\n",
    "                                                                            return_train_score=True,\n",
    "                                                                            scoring=scoring_metrics)\n",
    "\n",
    "\n",
    "model_lr_smote = LogisticRegression(random_state=123, max_iter=2000)\n",
    "model_lr_smote.fit(X_smote, y_smote)\n",
    "results_linear_models['Logistic Regression smote'] = mean_std_cross_val_scores(model_lr_smote,\n",
    "                                                                               X_smote, \n",
    "                                                                               y_smote,\n",
    "                                                                               return_train_score=True, \n",
    "                                                                               scoring=scoring_metrics)\n",
    "\n",
    "model_lr_smote_under = LogisticRegression(random_state=123, max_iter=2000)\n",
    "model_lr_smote_under.fit(X_smote_under, y_smote_under)\n",
    "results_linear_models['Logistic Regression smote undersampling'] = mean_std_cross_val_scores(model_lr_smote_under,\n",
    "                                                                                             X_smote_under, \n",
    "                                                                                             y_smote_under,\n",
    "                                                                                             return_train_score=True,\n",
    "                                                                                             scoring=scoring_metrics)"
   ]
  },
  {
   "cell_type": "code",
   "execution_count": 19,
   "id": "898fc47a-9d69-4e65-b3ad-1785c2580269",
   "metadata": {},
   "outputs": [
    {
     "data": {
      "text/html": [
       "<div>\n",
       "<style scoped>\n",
       "    .dataframe tbody tr th:only-of-type {\n",
       "        vertical-align: middle;\n",
       "    }\n",
       "\n",
       "    .dataframe tbody tr th {\n",
       "        vertical-align: top;\n",
       "    }\n",
       "\n",
       "    .dataframe thead th {\n",
       "        text-align: right;\n",
       "    }\n",
       "</style>\n",
       "<table border=\"1\" class=\"dataframe\">\n",
       "  <thead>\n",
       "    <tr style=\"text-align: right;\">\n",
       "      <th></th>\n",
       "      <th>Logistic Regression</th>\n",
       "      <th>Logistic Regression selected features</th>\n",
       "      <th>Logistic Regression smote</th>\n",
       "      <th>Logistic Regression smote undersampling</th>\n",
       "    </tr>\n",
       "  </thead>\n",
       "  <tbody>\n",
       "    <tr>\n",
       "      <th>fit_time</th>\n",
       "      <td>0.288 (+/- 0.028)</td>\n",
       "      <td>0.165 (+/- 0.049)</td>\n",
       "      <td>0.228 (+/- 0.053)</td>\n",
       "      <td>0.053 (+/- 0.007)</td>\n",
       "    </tr>\n",
       "    <tr>\n",
       "      <th>score_time</th>\n",
       "      <td>0.016 (+/- 0.000)</td>\n",
       "      <td>0.016 (+/- 0.000)</td>\n",
       "      <td>0.013 (+/- 0.007)</td>\n",
       "      <td>0.003 (+/- 0.007)</td>\n",
       "    </tr>\n",
       "    <tr>\n",
       "      <th>test_precision</th>\n",
       "      <td>0.214 (+/- 0.010)</td>\n",
       "      <td>0.209 (+/- 0.008)</td>\n",
       "      <td>0.660 (+/- 0.003)</td>\n",
       "      <td>0.620 (+/- 0.020)</td>\n",
       "    </tr>\n",
       "    <tr>\n",
       "      <th>train_precision</th>\n",
       "      <td>0.218 (+/- 0.004)</td>\n",
       "      <td>0.213 (+/- 0.003)</td>\n",
       "      <td>0.661 (+/- 0.002)</td>\n",
       "      <td>0.627 (+/- 0.004)</td>\n",
       "    </tr>\n",
       "    <tr>\n",
       "      <th>test_accuracy</th>\n",
       "      <td>0.665 (+/- 0.007)</td>\n",
       "      <td>0.661 (+/- 0.005)</td>\n",
       "      <td>0.656 (+/- 0.003)</td>\n",
       "      <td>0.686 (+/- 0.008)</td>\n",
       "    </tr>\n",
       "    <tr>\n",
       "      <th>train_accuracy</th>\n",
       "      <td>0.669 (+/- 0.004)</td>\n",
       "      <td>0.663 (+/- 0.004)</td>\n",
       "      <td>0.657 (+/- 0.002)</td>\n",
       "      <td>0.690 (+/- 0.002)</td>\n",
       "    </tr>\n",
       "    <tr>\n",
       "      <th>test_f1</th>\n",
       "      <td>0.319 (+/- 0.016)</td>\n",
       "      <td>0.313 (+/- 0.012)</td>\n",
       "      <td>0.651 (+/- 0.006)</td>\n",
       "      <td>0.501 (+/- 0.016)</td>\n",
       "    </tr>\n",
       "    <tr>\n",
       "      <th>train_f1</th>\n",
       "      <td>0.325 (+/- 0.005)</td>\n",
       "      <td>0.319 (+/- 0.004)</td>\n",
       "      <td>0.652 (+/- 0.002)</td>\n",
       "      <td>0.509 (+/- 0.004)</td>\n",
       "    </tr>\n",
       "    <tr>\n",
       "      <th>test_recall</th>\n",
       "      <td>0.632 (+/- 0.033)</td>\n",
       "      <td>0.623 (+/- 0.027)</td>\n",
       "      <td>0.643 (+/- 0.014)</td>\n",
       "      <td>0.421 (+/- 0.023)</td>\n",
       "    </tr>\n",
       "    <tr>\n",
       "      <th>train_recall</th>\n",
       "      <td>0.641 (+/- 0.008)</td>\n",
       "      <td>0.633 (+/- 0.004)</td>\n",
       "      <td>0.644 (+/- 0.003)</td>\n",
       "      <td>0.429 (+/- 0.006)</td>\n",
       "    </tr>\n",
       "  </tbody>\n",
       "</table>\n",
       "</div>"
      ],
      "text/plain": [
       "                Logistic Regression Logistic Regression selected features  \\\n",
       "fit_time          0.288 (+/- 0.028)                     0.165 (+/- 0.049)   \n",
       "score_time        0.016 (+/- 0.000)                     0.016 (+/- 0.000)   \n",
       "test_precision    0.214 (+/- 0.010)                     0.209 (+/- 0.008)   \n",
       "train_precision   0.218 (+/- 0.004)                     0.213 (+/- 0.003)   \n",
       "test_accuracy     0.665 (+/- 0.007)                     0.661 (+/- 0.005)   \n",
       "train_accuracy    0.669 (+/- 0.004)                     0.663 (+/- 0.004)   \n",
       "test_f1           0.319 (+/- 0.016)                     0.313 (+/- 0.012)   \n",
       "train_f1          0.325 (+/- 0.005)                     0.319 (+/- 0.004)   \n",
       "test_recall       0.632 (+/- 0.033)                     0.623 (+/- 0.027)   \n",
       "train_recall      0.641 (+/- 0.008)                     0.633 (+/- 0.004)   \n",
       "\n",
       "                Logistic Regression smote  \\\n",
       "fit_time                0.228 (+/- 0.053)   \n",
       "score_time              0.013 (+/- 0.007)   \n",
       "test_precision          0.660 (+/- 0.003)   \n",
       "train_precision         0.661 (+/- 0.002)   \n",
       "test_accuracy           0.656 (+/- 0.003)   \n",
       "train_accuracy          0.657 (+/- 0.002)   \n",
       "test_f1                 0.651 (+/- 0.006)   \n",
       "train_f1                0.652 (+/- 0.002)   \n",
       "test_recall             0.643 (+/- 0.014)   \n",
       "train_recall            0.644 (+/- 0.003)   \n",
       "\n",
       "                Logistic Regression smote undersampling  \n",
       "fit_time                              0.053 (+/- 0.007)  \n",
       "score_time                            0.003 (+/- 0.007)  \n",
       "test_precision                        0.620 (+/- 0.020)  \n",
       "train_precision                       0.627 (+/- 0.004)  \n",
       "test_accuracy                         0.686 (+/- 0.008)  \n",
       "train_accuracy                        0.690 (+/- 0.002)  \n",
       "test_f1                               0.501 (+/- 0.016)  \n",
       "train_f1                              0.509 (+/- 0.004)  \n",
       "test_recall                           0.421 (+/- 0.023)  \n",
       "train_recall                          0.429 (+/- 0.006)  "
      ]
     },
     "execution_count": 19,
     "metadata": {},
     "output_type": "execute_result"
    }
   ],
   "source": [
    "pd.DataFrame(results_linear_models)"
   ]
  },
  {
   "cell_type": "markdown",
   "id": "57300017-f00a-4310-8738-7732856d399f",
   "metadata": {},
   "source": [
    "**Observations**:\n",
    "\n",
    "Interesting to note that Logistic regression is sensitive to multicollinearity as one of it's assumption is that multicollineaity should not be present. But as I removed multicollinear features, the scores are decreasing as it might be possible that even though the features had correlation, they might be providing some information. \n",
    "\n",
    "Also, SMOTE seems to have worked better than class_weight parameter but SMOTE + undersampling performs poorly with logistic regression. This also confirms one of the assumption of logistic regression that sample size should be large enough. \n",
    "\n",
    "\n",
    "**Key takeaway**:  \n",
    "- What works for one model doesn't necessarily work for other. \n",
    "- Try different things and see what works best with your dataset."
   ]
  },
  {
   "cell_type": "code",
   "execution_count": 20,
   "id": "1b9187b7-5c3a-42ca-80f4-8ded8818447b",
   "metadata": {},
   "outputs": [],
   "source": [
    "model_svc = make_pipeline(preprocessor, SVC(random_state=123,\n",
    "                                            class_weight='balanced'))\n",
    "model_svc.fit(X_train, y_train)\n",
    "results_non_linear_models['SVC'] = mean_std_cross_val_scores(model_svc, X_train, y_train,\n",
    "                                                         return_train_score=True, \n",
    "                                                         scoring=scoring_metrics)\n",
    "\n",
    "\n",
    "model_svc_selected_features = make_pipeline(preprocessor_remove_multicolinear, SVC(random_state=123,\n",
    "                                                                    class_weight='balanced'))\n",
    "model_svc_selected_features.fit(X_train, y_train)\n",
    "results_non_linear_models['SVC_selected_features'] = mean_std_cross_val_scores(model_svc_selected_features, X_train, y_train,\n",
    "                                                           return_train_score=True, \n",
    "                                                           scoring=scoring_metrics)\n",
    "\n",
    "\n",
    "model_svc_smote = SVC(random_state=123)\n",
    "model_svc_smote.fit(X_smote, y_smote)\n",
    "results_non_linear_models['SVC_smote'] = mean_std_cross_val_scores(model_svc_smote, X_train_transformed, y_train,\n",
    "                                                           return_train_score=True, \n",
    "                                                           scoring=scoring_metrics)\n",
    "\n",
    "model_svc_smote_undersampling = SVC(random_state=123)\n",
    "model_svc_smote_undersampling.fit(X_smote_under, y_smote_under)\n",
    "results_non_linear_models['SVC_smote_undersampling'] = mean_std_cross_val_scores(model_svc_smote_undersampling, X_train_transformed, y_train,\n",
    "                                                           return_train_score=True, \n",
    "                                                           scoring=scoring_metrics)"
   ]
  },
  {
   "cell_type": "code",
   "execution_count": 21,
   "id": "6b40443f-bd35-4cb8-8c4f-e0460db5b9d7",
   "metadata": {},
   "outputs": [
    {
     "data": {
      "text/html": [
       "<div>\n",
       "<style scoped>\n",
       "    .dataframe tbody tr th:only-of-type {\n",
       "        vertical-align: middle;\n",
       "    }\n",
       "\n",
       "    .dataframe tbody tr th {\n",
       "        vertical-align: top;\n",
       "    }\n",
       "\n",
       "    .dataframe thead th {\n",
       "        text-align: right;\n",
       "    }\n",
       "</style>\n",
       "<table border=\"1\" class=\"dataframe\">\n",
       "  <thead>\n",
       "    <tr style=\"text-align: right;\">\n",
       "      <th></th>\n",
       "      <th>SVC</th>\n",
       "      <th>SVC_selected_features</th>\n",
       "      <th>SVC_smote</th>\n",
       "      <th>SVC_smote_undersampling</th>\n",
       "    </tr>\n",
       "  </thead>\n",
       "  <tbody>\n",
       "    <tr>\n",
       "      <th>fit_time</th>\n",
       "      <td>8.643 (+/- 0.082)</td>\n",
       "      <td>7.859 (+/- 0.118)</td>\n",
       "      <td>4.506 (+/- 0.028)</td>\n",
       "      <td>4.342 (+/- 0.110)</td>\n",
       "    </tr>\n",
       "    <tr>\n",
       "      <th>score_time</th>\n",
       "      <td>3.096 (+/- 0.103)</td>\n",
       "      <td>2.855 (+/- 0.076)</td>\n",
       "      <td>1.447 (+/- 0.034)</td>\n",
       "      <td>1.364 (+/- 0.058)</td>\n",
       "    </tr>\n",
       "    <tr>\n",
       "      <th>test_precision</th>\n",
       "      <td>0.315 (+/- 0.011)</td>\n",
       "      <td>0.311 (+/- 0.013)</td>\n",
       "      <td>0.943 (+/- 0.056)</td>\n",
       "      <td>0.943 (+/- 0.056)</td>\n",
       "    </tr>\n",
       "    <tr>\n",
       "      <th>train_precision</th>\n",
       "      <td>0.375 (+/- 0.003)</td>\n",
       "      <td>0.377 (+/- 0.003)</td>\n",
       "      <td>1.000 (+/- 0.000)</td>\n",
       "      <td>1.000 (+/- 0.000)</td>\n",
       "    </tr>\n",
       "    <tr>\n",
       "      <th>test_accuracy</th>\n",
       "      <td>0.771 (+/- 0.008)</td>\n",
       "      <td>0.767 (+/- 0.007)</td>\n",
       "      <td>0.878 (+/- 0.001)</td>\n",
       "      <td>0.878 (+/- 0.001)</td>\n",
       "    </tr>\n",
       "    <tr>\n",
       "      <th>train_accuracy</th>\n",
       "      <td>0.807 (+/- 0.002)</td>\n",
       "      <td>0.806 (+/- 0.002)</td>\n",
       "      <td>0.882 (+/- 0.001)</td>\n",
       "      <td>0.882 (+/- 0.001)</td>\n",
       "    </tr>\n",
       "    <tr>\n",
       "      <th>test_f1</th>\n",
       "      <td>0.438 (+/- 0.014)</td>\n",
       "      <td>0.434 (+/- 0.018)</td>\n",
       "      <td>0.047 (+/- 0.011)</td>\n",
       "      <td>0.047 (+/- 0.011)</td>\n",
       "    </tr>\n",
       "    <tr>\n",
       "      <th>train_f1</th>\n",
       "      <td>0.516 (+/- 0.004)</td>\n",
       "      <td>0.522 (+/- 0.003)</td>\n",
       "      <td>0.096 (+/- 0.010)</td>\n",
       "      <td>0.096 (+/- 0.010)</td>\n",
       "    </tr>\n",
       "    <tr>\n",
       "      <th>test_recall</th>\n",
       "      <td>0.718 (+/- 0.026)</td>\n",
       "      <td>0.718 (+/- 0.034)</td>\n",
       "      <td>0.024 (+/- 0.006)</td>\n",
       "      <td>0.024 (+/- 0.006)</td>\n",
       "    </tr>\n",
       "    <tr>\n",
       "      <th>train_recall</th>\n",
       "      <td>0.829 (+/- 0.008)</td>\n",
       "      <td>0.851 (+/- 0.007)</td>\n",
       "      <td>0.050 (+/- 0.005)</td>\n",
       "      <td>0.050 (+/- 0.005)</td>\n",
       "    </tr>\n",
       "  </tbody>\n",
       "</table>\n",
       "</div>"
      ],
      "text/plain": [
       "                               SVC SVC_selected_features          SVC_smote  \\\n",
       "fit_time         8.643 (+/- 0.082)     7.859 (+/- 0.118)  4.506 (+/- 0.028)   \n",
       "score_time       3.096 (+/- 0.103)     2.855 (+/- 0.076)  1.447 (+/- 0.034)   \n",
       "test_precision   0.315 (+/- 0.011)     0.311 (+/- 0.013)  0.943 (+/- 0.056)   \n",
       "train_precision  0.375 (+/- 0.003)     0.377 (+/- 0.003)  1.000 (+/- 0.000)   \n",
       "test_accuracy    0.771 (+/- 0.008)     0.767 (+/- 0.007)  0.878 (+/- 0.001)   \n",
       "train_accuracy   0.807 (+/- 0.002)     0.806 (+/- 0.002)  0.882 (+/- 0.001)   \n",
       "test_f1          0.438 (+/- 0.014)     0.434 (+/- 0.018)  0.047 (+/- 0.011)   \n",
       "train_f1         0.516 (+/- 0.004)     0.522 (+/- 0.003)  0.096 (+/- 0.010)   \n",
       "test_recall      0.718 (+/- 0.026)     0.718 (+/- 0.034)  0.024 (+/- 0.006)   \n",
       "train_recall     0.829 (+/- 0.008)     0.851 (+/- 0.007)  0.050 (+/- 0.005)   \n",
       "\n",
       "                SVC_smote_undersampling  \n",
       "fit_time              4.342 (+/- 0.110)  \n",
       "score_time            1.364 (+/- 0.058)  \n",
       "test_precision        0.943 (+/- 0.056)  \n",
       "train_precision       1.000 (+/- 0.000)  \n",
       "test_accuracy         0.878 (+/- 0.001)  \n",
       "train_accuracy        0.882 (+/- 0.001)  \n",
       "test_f1               0.047 (+/- 0.011)  \n",
       "train_f1              0.096 (+/- 0.010)  \n",
       "test_recall           0.024 (+/- 0.006)  \n",
       "train_recall          0.050 (+/- 0.005)  "
      ]
     },
     "execution_count": 21,
     "metadata": {},
     "output_type": "execute_result"
    }
   ],
   "source": [
    "pd.DataFrame(results_non_linear_models)"
   ]
  },
  {
   "cell_type": "markdown",
   "id": "d1faa7d7-4cb2-421c-8b56-ab1437e3c464",
   "metadata": {},
   "source": [
    "**Observations**\n",
    "\n",
    "Even though SVC with RBF kernel is non linear model , it is not able to capture the non-linear pattern. The SVC model is tested on default degree 3 only and the performance is very poor. SMOTE and SMOTE + undersampling doesn't seem to work with SVC model (and this confirms that some things work for some models only). \n",
    "\n",
    "Also, the fit and score time for SVC is way higher than the decision tree model, so it can be said that decision tree has performed well out of 3 models.\n",
    "\n",
    "But we still have overfitting issue with decision tree and hence we need to look more into tree based models to handle it."
   ]
  },
  {
   "cell_type": "markdown",
   "id": "5282216b-f123-4e19-84e5-f7b069d21872",
   "metadata": {},
   "source": [
    "### Bagging (RandomForest)"
   ]
  },
  {
   "cell_type": "code",
   "execution_count": 22,
   "id": "391617fc-ceb8-449e-8f83-27df8d45ad82",
   "metadata": {},
   "outputs": [],
   "source": [
    "model_RF = RandomForestClassifier()\n",
    "model_RF.fit(X_smote_under, y_smote_under)\n",
    "\n",
    "results_tree_models['RandomForest'] = mean_std_cross_val_scores(model_RF,\n",
    "                                                               X_smote_under,\n",
    "                                                               y_smote_under,\n",
    "                                                               return_train_score=True,\n",
    "                                                               scoring=scoring_metrics)"
   ]
  },
  {
   "cell_type": "markdown",
   "id": "eb966c13-3872-40df-8c98-e21bbe18386d",
   "metadata": {},
   "source": [
    "### Boosting (XGBoost and LightGBM)"
   ]
  },
  {
   "cell_type": "code",
   "execution_count": 23,
   "id": "1b7fbe25-60d4-4e17-a7f4-1e53920a4aa5",
   "metadata": {},
   "outputs": [],
   "source": [
    "model_xgb = XGBClassifier(use_label_encoder =False, \n",
    "                          verbosity=0)\n",
    "model_xgb.fit(X_smote_under, y_smote_under)\n",
    "results_tree_models['XGBboost'] = mean_std_cross_val_scores(model_xgb,\n",
    "                                                           X_smote_under,\n",
    "                                                           y_smote_under,\n",
    "                                                           return_train_score=True,\n",
    "                                                           scoring=scoring_metrics)\n",
    "\n",
    "\n",
    "model_lgb = lgb.LGBMClassifier()\n",
    "model_lgb.fit(X_smote_under, y_smote_under)\n",
    "results_tree_models['LightGBM'] = mean_std_cross_val_scores(model_lgb,\n",
    "                                                           X_smote_under,\n",
    "                                                           y_smote_under,\n",
    "                                                           return_train_score=True,\n",
    "                                                           scoring=scoring_metrics)"
   ]
  },
  {
   "cell_type": "code",
   "execution_count": 24,
   "id": "51365505-a67c-4bfd-9862-c9800f9b6217",
   "metadata": {},
   "outputs": [
    {
     "data": {
      "text/html": [
       "<div>\n",
       "<style scoped>\n",
       "    .dataframe tbody tr th:only-of-type {\n",
       "        vertical-align: middle;\n",
       "    }\n",
       "\n",
       "    .dataframe tbody tr th {\n",
       "        vertical-align: top;\n",
       "    }\n",
       "\n",
       "    .dataframe thead th {\n",
       "        text-align: right;\n",
       "    }\n",
       "</style>\n",
       "<table border=\"1\" class=\"dataframe\">\n",
       "  <thead>\n",
       "    <tr style=\"text-align: right;\">\n",
       "      <th></th>\n",
       "      <th>DecisionTree</th>\n",
       "      <th>DecisionTree_selected_features</th>\n",
       "      <th>DecisionTree_smote</th>\n",
       "      <th>DecisionTree_smote_undersampling</th>\n",
       "      <th>RandomForest</th>\n",
       "      <th>XGBboost</th>\n",
       "      <th>LightGBM</th>\n",
       "    </tr>\n",
       "  </thead>\n",
       "  <tbody>\n",
       "    <tr>\n",
       "      <th>fit_time</th>\n",
       "      <td>0.237 (+/- 0.031)</td>\n",
       "      <td>0.137 (+/- 0.006)</td>\n",
       "      <td>0.262 (+/- 0.019)</td>\n",
       "      <td>0.084 (+/- 0.007)</td>\n",
       "      <td>1.212 (+/- 0.018)</td>\n",
       "      <td>0.551 (+/- 0.007)</td>\n",
       "      <td>0.163 (+/- 0.013)</td>\n",
       "    </tr>\n",
       "    <tr>\n",
       "      <th>score_time</th>\n",
       "      <td>0.018 (+/- 0.004)</td>\n",
       "      <td>0.017 (+/- 0.002)</td>\n",
       "      <td>0.006 (+/- 0.009)</td>\n",
       "      <td>0.006 (+/- 0.009)</td>\n",
       "      <td>0.046 (+/- 0.002)</td>\n",
       "      <td>0.000 (+/- 0.001)</td>\n",
       "      <td>0.010 (+/- 0.009)</td>\n",
       "    </tr>\n",
       "    <tr>\n",
       "      <th>test_precision</th>\n",
       "      <td>0.708 (+/- 0.022)</td>\n",
       "      <td>0.723 (+/- 0.027)</td>\n",
       "      <td>0.942 (+/- 0.009)</td>\n",
       "      <td>0.818 (+/- 0.012)</td>\n",
       "      <td>0.974 (+/- 0.004)</td>\n",
       "      <td>0.929 (+/- 0.006)</td>\n",
       "      <td>0.924 (+/- 0.008)</td>\n",
       "    </tr>\n",
       "    <tr>\n",
       "      <th>train_precision</th>\n",
       "      <td>1.000 (+/- 0.000)</td>\n",
       "      <td>1.000 (+/- 0.000)</td>\n",
       "      <td>1.000 (+/- 0.000)</td>\n",
       "      <td>1.000 (+/- 0.000)</td>\n",
       "      <td>1.000 (+/- 0.000)</td>\n",
       "      <td>0.999 (+/- 0.001)</td>\n",
       "      <td>0.985 (+/- 0.007)</td>\n",
       "    </tr>\n",
       "    <tr>\n",
       "      <th>test_accuracy</th>\n",
       "      <td>0.930 (+/- 0.006)</td>\n",
       "      <td>0.933 (+/- 0.006)</td>\n",
       "      <td>0.947 (+/- 0.014)</td>\n",
       "      <td>0.875 (+/- 0.019)</td>\n",
       "      <td>0.945 (+/- 0.041)</td>\n",
       "      <td>0.929 (+/- 0.042)</td>\n",
       "      <td>0.895 (+/- 0.063)</td>\n",
       "    </tr>\n",
       "    <tr>\n",
       "      <th>train_accuracy</th>\n",
       "      <td>1.000 (+/- 0.000)</td>\n",
       "      <td>1.000 (+/- 0.000)</td>\n",
       "      <td>1.000 (+/- 0.000)</td>\n",
       "      <td>1.000 (+/- 0.000)</td>\n",
       "      <td>1.000 (+/- 0.000)</td>\n",
       "      <td>0.992 (+/- 0.003)</td>\n",
       "      <td>0.950 (+/- 0.007)</td>\n",
       "    </tr>\n",
       "    <tr>\n",
       "      <th>test_f1</th>\n",
       "      <td>0.727 (+/- 0.031)</td>\n",
       "      <td>0.737 (+/- 0.025)</td>\n",
       "      <td>0.947 (+/- 0.016)</td>\n",
       "      <td>0.837 (+/- 0.028)</td>\n",
       "      <td>0.920 (+/- 0.063)</td>\n",
       "      <td>0.900 (+/- 0.065)</td>\n",
       "      <td>0.839 (+/- 0.110)</td>\n",
       "    </tr>\n",
       "    <tr>\n",
       "      <th>train_f1</th>\n",
       "      <td>1.000 (+/- 0.000)</td>\n",
       "      <td>1.000 (+/- 0.000)</td>\n",
       "      <td>1.000 (+/- 0.000)</td>\n",
       "      <td>1.000 (+/- 0.000)</td>\n",
       "      <td>1.000 (+/- 0.000)</td>\n",
       "      <td>0.990 (+/- 0.004)</td>\n",
       "      <td>0.929 (+/- 0.009)</td>\n",
       "    </tr>\n",
       "    <tr>\n",
       "      <th>test_recall</th>\n",
       "      <td>0.747 (+/- 0.049)</td>\n",
       "      <td>0.754 (+/- 0.040)</td>\n",
       "      <td>0.954 (+/- 0.039)</td>\n",
       "      <td>0.858 (+/- 0.049)</td>\n",
       "      <td>0.877 (+/- 0.112)</td>\n",
       "      <td>0.879 (+/- 0.117)</td>\n",
       "      <td>0.783 (+/- 0.180)</td>\n",
       "    </tr>\n",
       "    <tr>\n",
       "      <th>train_recall</th>\n",
       "      <td>1.000 (+/- 0.000)</td>\n",
       "      <td>1.000 (+/- 0.000)</td>\n",
       "      <td>1.000 (+/- 0.000)</td>\n",
       "      <td>1.000 (+/- 0.000)</td>\n",
       "      <td>1.000 (+/- 0.000)</td>\n",
       "      <td>0.981 (+/- 0.007)</td>\n",
       "      <td>0.880 (+/- 0.012)</td>\n",
       "    </tr>\n",
       "  </tbody>\n",
       "</table>\n",
       "</div>"
      ],
      "text/plain": [
       "                      DecisionTree DecisionTree_selected_features  \\\n",
       "fit_time         0.237 (+/- 0.031)              0.137 (+/- 0.006)   \n",
       "score_time       0.018 (+/- 0.004)              0.017 (+/- 0.002)   \n",
       "test_precision   0.708 (+/- 0.022)              0.723 (+/- 0.027)   \n",
       "train_precision  1.000 (+/- 0.000)              1.000 (+/- 0.000)   \n",
       "test_accuracy    0.930 (+/- 0.006)              0.933 (+/- 0.006)   \n",
       "train_accuracy   1.000 (+/- 0.000)              1.000 (+/- 0.000)   \n",
       "test_f1          0.727 (+/- 0.031)              0.737 (+/- 0.025)   \n",
       "train_f1         1.000 (+/- 0.000)              1.000 (+/- 0.000)   \n",
       "test_recall      0.747 (+/- 0.049)              0.754 (+/- 0.040)   \n",
       "train_recall     1.000 (+/- 0.000)              1.000 (+/- 0.000)   \n",
       "\n",
       "                DecisionTree_smote DecisionTree_smote_undersampling  \\\n",
       "fit_time         0.262 (+/- 0.019)                0.084 (+/- 0.007)   \n",
       "score_time       0.006 (+/- 0.009)                0.006 (+/- 0.009)   \n",
       "test_precision   0.942 (+/- 0.009)                0.818 (+/- 0.012)   \n",
       "train_precision  1.000 (+/- 0.000)                1.000 (+/- 0.000)   \n",
       "test_accuracy    0.947 (+/- 0.014)                0.875 (+/- 0.019)   \n",
       "train_accuracy   1.000 (+/- 0.000)                1.000 (+/- 0.000)   \n",
       "test_f1          0.947 (+/- 0.016)                0.837 (+/- 0.028)   \n",
       "train_f1         1.000 (+/- 0.000)                1.000 (+/- 0.000)   \n",
       "test_recall      0.954 (+/- 0.039)                0.858 (+/- 0.049)   \n",
       "train_recall     1.000 (+/- 0.000)                1.000 (+/- 0.000)   \n",
       "\n",
       "                      RandomForest           XGBboost           LightGBM  \n",
       "fit_time         1.212 (+/- 0.018)  0.551 (+/- 0.007)  0.163 (+/- 0.013)  \n",
       "score_time       0.046 (+/- 0.002)  0.000 (+/- 0.001)  0.010 (+/- 0.009)  \n",
       "test_precision   0.974 (+/- 0.004)  0.929 (+/- 0.006)  0.924 (+/- 0.008)  \n",
       "train_precision  1.000 (+/- 0.000)  0.999 (+/- 0.001)  0.985 (+/- 0.007)  \n",
       "test_accuracy    0.945 (+/- 0.041)  0.929 (+/- 0.042)  0.895 (+/- 0.063)  \n",
       "train_accuracy   1.000 (+/- 0.000)  0.992 (+/- 0.003)  0.950 (+/- 0.007)  \n",
       "test_f1          0.920 (+/- 0.063)  0.900 (+/- 0.065)  0.839 (+/- 0.110)  \n",
       "train_f1         1.000 (+/- 0.000)  0.990 (+/- 0.004)  0.929 (+/- 0.009)  \n",
       "test_recall      0.877 (+/- 0.112)  0.879 (+/- 0.117)  0.783 (+/- 0.180)  \n",
       "train_recall     1.000 (+/- 0.000)  0.981 (+/- 0.007)  0.880 (+/- 0.012)  "
      ]
     },
     "execution_count": 24,
     "metadata": {},
     "output_type": "execute_result"
    }
   ],
   "source": [
    "pd.DataFrame(results_tree_models)"
   ]
  },
  {
   "cell_type": "markdown",
   "id": "b10edfff-4a6d-44f3-9f23-f149abac8e08",
   "metadata": {},
   "source": [
    "It can be observed that Random Forest is performing better than boosting algorithms which makes sense as well as bagging algorithms helps to reduce bias and not variance and hence bagging algo (Random Forest) can be considered best to tackle overfitting problem."
   ]
  },
  {
   "cell_type": "code",
   "execution_count": 25,
   "id": "8034a1a4-a91a-4386-9dc6-b7fe8de50ff0",
   "metadata": {},
   "outputs": [
    {
     "data": {
      "text/plain": [
       "(16000, 43)"
      ]
     },
     "execution_count": 25,
     "metadata": {},
     "output_type": "execute_result"
    }
   ],
   "source": [
    "X_train_transformed.shape"
   ]
  },
  {
   "cell_type": "code",
   "execution_count": 26,
   "id": "b56db0dc-f340-4f3c-92ae-182da483f6fd",
   "metadata": {},
   "outputs": [],
   "source": [
    "param_dist = {'max_depth': np.linspace(1, 20, 20),\n",
    "              'n_estimators': np.arange(5, 50, 5)}"
   ]
  },
  {
   "cell_type": "code",
   "execution_count": 27,
   "id": "6b6c49b8-9904-43ee-8f4a-6565f063fa2f",
   "metadata": {},
   "outputs": [
    {
     "data": {
      "text/plain": [
       "{'max_depth': array([ 1.,  2.,  3.,  4.,  5.,  6.,  7.,  8.,  9., 10., 11., 12., 13.,\n",
       "        14., 15., 16., 17., 18., 19., 20.]),\n",
       " 'n_estimators': array([ 5, 10, 15, 20, 25, 30, 35, 40, 45])}"
      ]
     },
     "execution_count": 27,
     "metadata": {},
     "output_type": "execute_result"
    }
   ],
   "source": [
    "param_dist"
   ]
  },
  {
   "cell_type": "code",
   "execution_count": 28,
   "id": "595f5891-159c-4b96-9ac3-53692f678253",
   "metadata": {},
   "outputs": [],
   "source": [
    "random_search = RandomizedSearchCV(model_RF, param_distributions=param_dist,\n",
    "                                  scoring=scoring_metrics,\n",
    "                                  n_jobs=-1,\n",
    "                                  return_train_score=True,\n",
    "                                  random_state=123,\n",
    "                                  refit='f1')"
   ]
  },
  {
   "cell_type": "code",
   "execution_count": 29,
   "id": "d163738f-6611-4162-977f-084a94466953",
   "metadata": {},
   "outputs": [
    {
     "data": {
      "text/plain": [
       "RandomizedSearchCV(estimator=RandomForestClassifier(), n_jobs=-1,\n",
       "                   param_distributions={'max_depth': array([ 1.,  2.,  3.,  4.,  5.,  6.,  7.,  8.,  9., 10., 11., 12., 13.,\n",
       "       14., 15., 16., 17., 18., 19., 20.]),\n",
       "                                        'n_estimators': array([ 5, 10, 15, 20, 25, 30, 35, 40, 45])},\n",
       "                   random_state=123, refit='f1', return_train_score=True,\n",
       "                   scoring={'precision', 'accuracy', 'f1', 'recall'})"
      ]
     },
     "execution_count": 29,
     "metadata": {},
     "output_type": "execute_result"
    }
   ],
   "source": [
    "random_search.fit(X_smote_under, y_smote_under)"
   ]
  },
  {
   "cell_type": "code",
   "execution_count": 30,
   "id": "d6ba164c-e37e-4bf6-b90a-79b6717448df",
   "metadata": {},
   "outputs": [
    {
     "data": {
      "text/plain": [
       "RandomForestClassifier(max_depth=20.0, n_estimators=30)"
      ]
     },
     "execution_count": 30,
     "metadata": {},
     "output_type": "execute_result"
    }
   ],
   "source": [
    "random_search.best_estimator_"
   ]
  },
  {
   "cell_type": "code",
   "execution_count": 31,
   "id": "7ddd9943-1b3c-4bf7-8f07-5c6c70ea8550",
   "metadata": {},
   "outputs": [
    {
     "data": {
      "text/plain": [
       "fit_time           0.316 (+/- 0.012)\n",
       "score_time         0.016 (+/- 0.001)\n",
       "test_precision     0.960 (+/- 0.009)\n",
       "train_precision    1.000 (+/- 0.000)\n",
       "test_accuracy      0.940 (+/- 0.039)\n",
       "train_accuracy     0.999 (+/- 0.000)\n",
       "test_f1            0.914 (+/- 0.059)\n",
       "train_f1           0.999 (+/- 0.000)\n",
       "test_recall        0.877 (+/- 0.101)\n",
       "train_recall       0.999 (+/- 0.001)\n",
       "dtype: object"
      ]
     },
     "execution_count": 31,
     "metadata": {},
     "output_type": "execute_result"
    }
   ],
   "source": [
    "model_rf_hyperparameter = RandomForestClassifier(max_depth=random_search.best_estimator_.max_depth,\n",
    "                                                 n_estimators=random_search.best_estimator_.n_estimators,\n",
    "                                                 random_state=123)\n",
    "mean_std_cross_val_scores(model_rf_hyperparameter, X_smote_under, y_smote_under,\n",
    "                          return_train_score=True,\n",
    "                          scoring=scoring_metrics)"
   ]
  },
  {
   "cell_type": "code",
   "execution_count": 32,
   "id": "2e490140-7720-4081-9fcc-fbe27aba478d",
   "metadata": {},
   "outputs": [
    {
     "data": {
      "text/plain": [
       "0.9142276074505465"
      ]
     },
     "execution_count": 32,
     "metadata": {},
     "output_type": "execute_result"
    }
   ],
   "source": [
    "random_search.best_score_"
   ]
  },
  {
   "cell_type": "code",
   "execution_count": 33,
   "id": "1077fbf7-6ca3-4e4c-b230-43d433ccc619",
   "metadata": {},
   "outputs": [
    {
     "data": {
      "text/plain": [
       "RandomForestClassifier(max_depth=20.0, n_estimators=30, random_state=123)"
      ]
     },
     "execution_count": 33,
     "metadata": {},
     "output_type": "execute_result"
    }
   ],
   "source": [
    "model_rf_hyperparameter.fit(X_smote_under, y_smote_under)"
   ]
  },
  {
   "cell_type": "code",
   "execution_count": 34,
   "id": "07010187-66b4-4dd2-b7c7-4d8699e3442f",
   "metadata": {},
   "outputs": [],
   "source": [
    "y_pred = model_rf_hyperparameter.predict(X_test_transformed,)\n",
    "y_scores = model_rf_hyperparameter.predict_proba(X_test_transformed)"
   ]
  },
  {
   "cell_type": "markdown",
   "id": "4e9848d9-521e-4848-b3ad-28f3abef053a",
   "metadata": {},
   "source": [
    "### Confusion Matrix"
   ]
  },
  {
   "cell_type": "code",
   "execution_count": 35,
   "id": "2e511a3f-d6d7-4ee7-9fae-fdbba6d0f555",
   "metadata": {},
   "outputs": [
    {
     "data": {
      "text/plain": [
       "<sklearn.metrics._plot.confusion_matrix.ConfusionMatrixDisplay at 0x22628ec7580>"
      ]
     },
     "execution_count": 35,
     "metadata": {},
     "output_type": "execute_result"
    },
    {
     "data": {
      "image/png": "[encoded data removed]",
      "text/plain": [
       "<Figure size 432x288 with 2 Axes>"
      ]
     },
     "metadata": {
      "needs_background": "light"
     },
     "output_type": "display_data"
    }
   ],
   "source": [
    "cm = confusion_matrix(y_test, y_pred, labels=model_rf_hyperparameter.classes_)\n",
    "disp = ConfusionMatrixDisplay(confusion_matrix=cm,\n",
    "                               display_labels=['Not Interested', 'Interested'])\n",
    "disp.plot()"
   ]
  },
  {
   "cell_type": "markdown",
   "id": "f94cf21a-f3b1-43c3-bc5e-56ff29ba3c96",
   "metadata": {},
   "source": [
    "> #### The confusion matrix obtained tells us that we are predicting 69 customers as interested when they are not and neglecting 121 customers which are interested as Not Interested. The range of acceptable mistakes by model entirely depends on the business, use-case, investments etc.\n",
    "\n",
    "> #### The default threshold chosen is 0.5 and have 121 False Negatives (Type II error) and 69 False Positives (Type I error). Based on the business needs, the threshold can be set to lower, False Positives would increase and larger not interested customer base would be targeted. If set to higher, then more False negatives then we would loose on lot of interested customers."
   ]
  },
  {
   "cell_type": "markdown",
   "id": "88f0e8cb-cf61-40e1-a26e-d563f7fff829",
   "metadata": {},
   "source": [
    "### Precision - Recall curve "
   ]
  },
  {
   "cell_type": "code",
   "execution_count": 36,
   "id": "66366bb9-6c52-4529-9b37-e53d2e32cb4b",
   "metadata": {},
   "outputs": [
    {
     "data": {
      "image/png": "[encoded data removed]",
      "text/plain": [
       "<Figure size 432x288 with 1 Axes>"
      ]
     },
     "metadata": {
      "needs_background": "light"
     },
     "output_type": "display_data"
    }
   ],
   "source": [
    "prec, recall, thresholds = precision_recall_curve(y_test, y_scores[:, 1], pos_label=model_rf_hyperparameter.classes_[1])\n",
    "pr_display = PrecisionRecallDisplay(precision=prec, recall=recall).plot()"
   ]
  },
  {
   "cell_type": "markdown",
   "id": "54dca317-9da2-42f4-b804-95408baa4a0e",
   "metadata": {},
   "source": [
    "#### Interesting to see that precision is constant for all thresholds except the extreme cases."
   ]
  },
  {
   "cell_type": "markdown",
   "id": "67442433-641d-4b08-96c3-ea906b283284",
   "metadata": {},
   "source": [
    "### Threshold can be set to see the impact on model predictions."
   ]
  },
  {
   "cell_type": "code",
   "execution_count": 37,
   "id": "8b4bcff8-deb0-459e-a679-2d5a551c3b4d",
   "metadata": {},
   "outputs": [
    {
     "data": {
      "text/plain": [
       "array([0, 0, 0, ..., 0, 0, 0])"
      ]
     },
     "execution_count": 37,
     "metadata": {},
     "output_type": "execute_result"
    }
   ],
   "source": [
    "threshold = 0.6\n",
    "y_pred_threshold = (y_scores[:, 1] > threshold).astype('int')\n",
    "y_pred_threshold"
   ]
  },
  {
   "cell_type": "code",
   "execution_count": 38,
   "id": "530b9acf-9867-4d37-948b-4807ee1620c2",
   "metadata": {},
   "outputs": [
    {
     "data": {
      "text/plain": [
       "<sklearn.metrics._plot.confusion_matrix.ConfusionMatrixDisplay at 0x22634393d30>"
      ]
     },
     "execution_count": 38,
     "metadata": {},
     "output_type": "execute_result"
    },
    {
     "data": {
      "image/png": "[encoded data removed]",
      "text/plain": [
       "<Figure size 432x288 with 2 Axes>"
      ]
     },
     "metadata": {
      "needs_background": "light"
     },
     "output_type": "display_data"
    }
   ],
   "source": [
    "cm_threshold = confusion_matrix(y_test, y_pred_threshold, labels=model_rf_hyperparameter.classes_)\n",
    "disp = ConfusionMatrixDisplay(confusion_matrix=cm_threshold,\n",
    "                               display_labels=['Not Interested', 'Interested'])\n",
    "disp.plot()"
   ]
  }
 ],
 "metadata": {
  "kernelspec": {
   "display_name": "Python [conda env:563]",
   "language": "python",
   "name": "conda-env-563-py"
  },
  "language_info": {
   "codemirror_mode": {
    "name": "ipython",
    "version": 3
   },
   "file_extension": ".py",
   "mimetype": "text/x-python",
   "name": "python",
   "nbconvert_exporter": "python",
   "pygments_lexer": "ipython3",
   "version": "3.9.10"
  }
 },
 "nbformat": 4,
 "nbformat_minor": 5
}
