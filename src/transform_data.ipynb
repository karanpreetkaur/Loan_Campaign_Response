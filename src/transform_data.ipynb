{
 "cells": [
  {
   "cell_type": "code",
   "execution_count": 1,
   "id": "c13a844f-8ee0-4f36-9f1c-b06bd0b4f4b6",
   "metadata": {},
   "outputs": [],
   "source": [
    "import pandas as pd\n",
    "import os\n",
    "from sklearn.model_selection import train_test_split"
   ]
  },
  {
   "cell_type": "code",
   "execution_count": 2,
   "id": "6b61a087-c324-4036-bb2a-dbdd99f71588",
   "metadata": {},
   "outputs": [],
   "source": [
    "# Load Loan Campaign dataset\n",
    "loan_campaign_response = pd.read_csv('../data/raw/PL_XSELL.csv')"
   ]
  },
  {
   "cell_type": "code",
   "execution_count": 3,
   "id": "4eafb8f8-527f-473a-854c-d27371dd039e",
   "metadata": {},
   "outputs": [
    {
     "data": {
      "text/plain": [
       "(20000, 40)"
      ]
     },
     "execution_count": 3,
     "metadata": {},
     "output_type": "execute_result"
    }
   ],
   "source": [
    "loan_campaign_response.shape"
   ]
  },
  {
   "cell_type": "code",
   "execution_count": 7,
   "id": "2d39ad62-acff-457f-9179-6665b05bfa18",
   "metadata": {},
   "outputs": [
    {
     "name": "stdout",
     "output_type": "stream",
     "text": [
      "<class 'pandas.core.frame.DataFrame'>\n",
      "RangeIndex: 20000 entries, 0 to 19999\n",
      "Data columns (total 40 columns):\n",
      " #   Column                    Non-Null Count  Dtype  \n",
      "---  ------                    --------------  -----  \n",
      " 0   CUST_ID                   20000 non-null  object \n",
      " 1   TARGET                    20000 non-null  int64  \n",
      " 2   AGE                       20000 non-null  int64  \n",
      " 3   GENDER                    20000 non-null  object \n",
      " 4   BALANCE                   20000 non-null  float64\n",
      " 5   OCCUPATION                20000 non-null  object \n",
      " 6   AGE_BKT                   20000 non-null  object \n",
      " 7   SCR                       20000 non-null  int64  \n",
      " 8   HOLDING_PERIOD            20000 non-null  int64  \n",
      " 9   ACC_TYPE                  20000 non-null  object \n",
      " 10  ACC_OP_DATE               20000 non-null  object \n",
      " 11  LEN_OF_RLTN_IN_MNTH       20000 non-null  int64  \n",
      " 12  NO_OF_L_CR_TXNS           20000 non-null  int64  \n",
      " 13  NO_OF_L_DR_TXNS           20000 non-null  int64  \n",
      " 14  TOT_NO_OF_L_TXNS          20000 non-null  int64  \n",
      " 15  NO_OF_BR_CSH_WDL_DR_TXNS  20000 non-null  int64  \n",
      " 16  NO_OF_ATM_DR_TXNS         20000 non-null  int64  \n",
      " 17  NO_OF_NET_DR_TXNS         20000 non-null  int64  \n",
      " 18  NO_OF_MOB_DR_TXNS         20000 non-null  int64  \n",
      " 19  NO_OF_CHQ_DR_TXNS         20000 non-null  int64  \n",
      " 20  FLG_HAS_CC                20000 non-null  int64  \n",
      " 21  AMT_ATM_DR                20000 non-null  int64  \n",
      " 22  AMT_BR_CSH_WDL_DR         20000 non-null  int64  \n",
      " 23  AMT_CHQ_DR                20000 non-null  int64  \n",
      " 24  AMT_NET_DR                20000 non-null  float64\n",
      " 25  AMT_MOB_DR                20000 non-null  int64  \n",
      " 26  AMT_L_DR                  20000 non-null  float64\n",
      " 27  FLG_HAS_ANY_CHGS          20000 non-null  int64  \n",
      " 28  AMT_OTH_BK_ATM_USG_CHGS   20000 non-null  int64  \n",
      " 29  AMT_MIN_BAL_NMC_CHGS      20000 non-null  int64  \n",
      " 30  NO_OF_IW_CHQ_BNC_TXNS     20000 non-null  int64  \n",
      " 31  NO_OF_OW_CHQ_BNC_TXNS     20000 non-null  int64  \n",
      " 32  AVG_AMT_PER_ATM_TXN       20000 non-null  float64\n",
      " 33  AVG_AMT_PER_CSH_WDL_TXN   20000 non-null  float64\n",
      " 34  AVG_AMT_PER_CHQ_TXN       20000 non-null  float64\n",
      " 35  AVG_AMT_PER_NET_TXN       20000 non-null  float64\n",
      " 36  AVG_AMT_PER_MOB_TXN       20000 non-null  float64\n",
      " 37  FLG_HAS_NOMINEE           20000 non-null  int64  \n",
      " 38  FLG_HAS_OLD_LOAN          20000 non-null  int64  \n",
      " 39  random                    20000 non-null  float64\n",
      "dtypes: float64(9), int64(25), object(6)\n",
      "memory usage: 6.1+ MB\n"
     ]
    }
   ],
   "source": [
    "loan_campaign_response.info()"
   ]
  },
  {
   "cell_type": "markdown",
   "id": "9f487ecd-50bd-4180-9108-f1b58f56d6fe",
   "metadata": {},
   "source": [
    "##### _It can be observed that there are no missing values in the full dataset_"
   ]
  },
  {
   "cell_type": "markdown",
   "id": "6a47c2d6-f25a-41a1-856e-8bb0fb9cf1b5",
   "metadata": {},
   "source": [
    "#### Considering the capacity of my laptop , I have splitted the dataset into 80% train data and 20% test data"
   ]
  },
  {
   "cell_type": "code",
   "execution_count": 4,
   "id": "3dfea488-6935-4e76-b90c-e622ee994b03",
   "metadata": {},
   "outputs": [],
   "source": [
    "# Split dataset into train and test\n",
    "train, test = train_test_split(loan_campaign_response, train_size=0.8, test_size=0.2, random_state=123)"
   ]
  },
  {
   "cell_type": "code",
   "execution_count": 5,
   "id": "cc1712a6-b339-4490-bc2b-2d90875f88be",
   "metadata": {},
   "outputs": [],
   "source": [
    "file_path = '../data/preprocessed/'\n",
    "train_file_path = '../data/preprocessed/train.csv'\n",
    "test_file_path = '../data/preprocessed/test.csv'"
   ]
  },
  {
   "cell_type": "code",
   "execution_count": 6,
   "id": "5fee850d-53a0-460a-982e-861732266869",
   "metadata": {},
   "outputs": [],
   "source": [
    "try:\n",
    "    train.to_csv(train_file_path, index=False, encoding='utf-8')\n",
    "    test.to_csv(test_file_path, index=False, encoding='utf-8')\n",
    "except:\n",
    "    os.makedirs(os.path.dirname(file_path))\n",
    "    train.to_csv(train_file_path, index=False, encoding='utf-8')\n",
    "    test.to_csv(test_file_path, index=False, encoding='utf-8')"
   ]
  }
 ],
 "metadata": {
  "kernelspec": {
   "display_name": "Python [conda env:573]",
   "language": "python",
   "name": "conda-env-573-py"
  },
  "language_info": {
   "codemirror_mode": {
    "name": "ipython",
    "version": 3
   },
   "file_extension": ".py",
   "mimetype": "text/x-python",
   "name": "python",
   "nbconvert_exporter": "python",
   "pygments_lexer": "ipython3",
   "version": "3.9.7"
  }
 },
 "nbformat": 4,
 "nbformat_minor": 5
}
